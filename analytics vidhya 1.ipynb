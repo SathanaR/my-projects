{
 "cells": [
  {
   "cell_type": "code",
   "execution_count": 141,
   "id": "8d817226",
   "metadata": {},
   "outputs": [],
   "source": [
    "import pandas as pd\n",
    "import numpy as np\n",
    "import seaborn as sns\n",
    "import matplotlib.pyplot as plt\n",
    "from scipy import stats\n",
    "import statsmodels.api as  sm\n",
    "from sklearn.preprocessing import StandardScaler\n",
    "from sklearn.model_selection import train_test_split\n",
    "from sklearn.linear_model import LinearRegression as LS\n",
    "from sklearn.metrics import mean_squared_error as mse\n",
    "from sklearn.preprocessing import normalize\n",
    "from sklearn.decomposition import PCA\n",
    "from sklearn.tree import DecisionTreeRegressor"
   ]
  },
  {
   "cell_type": "code",
   "execution_count": 142,
   "id": "cf39eb4b",
   "metadata": {},
   "outputs": [],
   "source": [
    "data_train=pd.read_csv(\"C:/Users/admin/Downloads/train_NIR5Yl1.csv\",na_values=None,)"
   ]
  },
  {
   "cell_type": "code",
   "execution_count": 143,
   "id": "1413691a",
   "metadata": {},
   "outputs": [],
   "source": [
    "data_test=pd.read_csv(\"C:/Users/admin/Downloads/test_8i3B3FC.csv\",na_values=None)"
   ]
  },
  {
   "cell_type": "code",
   "execution_count": 144,
   "id": "f9a3c481",
   "metadata": {},
   "outputs": [],
   "source": [
    "final=pd.read_csv(\"C:/Users/admin/Downloads/sample_submission_OR5kZa5.csv\")"
   ]
  },
  {
   "cell_type": "code",
   "execution_count": 145,
   "id": "b35313b0",
   "metadata": {},
   "outputs": [
    {
     "data": {
      "text/plain": [
       "(330045, 7)"
      ]
     },
     "execution_count": 145,
     "metadata": {},
     "output_type": "execute_result"
    }
   ],
   "source": [
    "data_train.shape"
   ]
  },
  {
   "cell_type": "code",
   "execution_count": 146,
   "id": "f83b5445",
   "metadata": {},
   "outputs": [
    {
     "data": {
      "text/plain": [
       "(141448, 6)"
      ]
     },
     "execution_count": 146,
     "metadata": {},
     "output_type": "execute_result"
    }
   ],
   "source": [
    "data_test.shape"
   ]
  },
  {
   "cell_type": "code",
   "execution_count": 147,
   "id": "e10fa354",
   "metadata": {},
   "outputs": [
    {
     "data": {
      "text/plain": [
       "Index(['ID', 'Tag', 'Reputation', 'Answers', 'Username', 'Views', 'Upvotes'], dtype='object')"
      ]
     },
     "execution_count": 147,
     "metadata": {},
     "output_type": "execute_result"
    }
   ],
   "source": [
    "data_train.columns"
   ]
  },
  {
   "cell_type": "code",
   "execution_count": 148,
   "id": "518349fe",
   "metadata": {},
   "outputs": [
    {
     "data": {
      "text/html": [
       "<div>\n",
       "<style scoped>\n",
       "    .dataframe tbody tr th:only-of-type {\n",
       "        vertical-align: middle;\n",
       "    }\n",
       "\n",
       "    .dataframe tbody tr th {\n",
       "        vertical-align: top;\n",
       "    }\n",
       "\n",
       "    .dataframe thead th {\n",
       "        text-align: right;\n",
       "    }\n",
       "</style>\n",
       "<table border=\"1\" class=\"dataframe\">\n",
       "  <thead>\n",
       "    <tr style=\"text-align: right;\">\n",
       "      <th></th>\n",
       "      <th>ID</th>\n",
       "      <th>Reputation</th>\n",
       "      <th>Answers</th>\n",
       "      <th>Username</th>\n",
       "      <th>Views</th>\n",
       "      <th>Upvotes</th>\n",
       "    </tr>\n",
       "  </thead>\n",
       "  <tbody>\n",
       "    <tr>\n",
       "      <th>count</th>\n",
       "      <td>330045.000000</td>\n",
       "      <td>3.300450e+05</td>\n",
       "      <td>330045.000000</td>\n",
       "      <td>330045.000000</td>\n",
       "      <td>3.300450e+05</td>\n",
       "      <td>330045.000000</td>\n",
       "    </tr>\n",
       "    <tr>\n",
       "      <th>mean</th>\n",
       "      <td>235748.682789</td>\n",
       "      <td>7.773147e+03</td>\n",
       "      <td>3.917672</td>\n",
       "      <td>81442.888803</td>\n",
       "      <td>2.964507e+04</td>\n",
       "      <td>337.505358</td>\n",
       "    </tr>\n",
       "    <tr>\n",
       "      <th>std</th>\n",
       "      <td>136039.418471</td>\n",
       "      <td>2.706141e+04</td>\n",
       "      <td>3.579515</td>\n",
       "      <td>49215.100730</td>\n",
       "      <td>8.095646e+04</td>\n",
       "      <td>3592.441135</td>\n",
       "    </tr>\n",
       "    <tr>\n",
       "      <th>min</th>\n",
       "      <td>1.000000</td>\n",
       "      <td>0.000000e+00</td>\n",
       "      <td>0.000000</td>\n",
       "      <td>0.000000</td>\n",
       "      <td>9.000000e+00</td>\n",
       "      <td>0.000000</td>\n",
       "    </tr>\n",
       "    <tr>\n",
       "      <th>25%</th>\n",
       "      <td>117909.000000</td>\n",
       "      <td>2.820000e+02</td>\n",
       "      <td>2.000000</td>\n",
       "      <td>39808.000000</td>\n",
       "      <td>2.594000e+03</td>\n",
       "      <td>8.000000</td>\n",
       "    </tr>\n",
       "    <tr>\n",
       "      <th>50%</th>\n",
       "      <td>235699.000000</td>\n",
       "      <td>1.236000e+03</td>\n",
       "      <td>3.000000</td>\n",
       "      <td>79010.000000</td>\n",
       "      <td>8.954000e+03</td>\n",
       "      <td>28.000000</td>\n",
       "    </tr>\n",
       "    <tr>\n",
       "      <th>75%</th>\n",
       "      <td>353620.000000</td>\n",
       "      <td>5.118000e+03</td>\n",
       "      <td>5.000000</td>\n",
       "      <td>122559.000000</td>\n",
       "      <td>2.687000e+04</td>\n",
       "      <td>107.000000</td>\n",
       "    </tr>\n",
       "    <tr>\n",
       "      <th>max</th>\n",
       "      <td>471493.000000</td>\n",
       "      <td>1.042428e+06</td>\n",
       "      <td>76.000000</td>\n",
       "      <td>175738.000000</td>\n",
       "      <td>5.231058e+06</td>\n",
       "      <td>615278.000000</td>\n",
       "    </tr>\n",
       "  </tbody>\n",
       "</table>\n",
       "</div>"
      ],
      "text/plain": [
       "                  ID    Reputation        Answers       Username  \\\n",
       "count  330045.000000  3.300450e+05  330045.000000  330045.000000   \n",
       "mean   235748.682789  7.773147e+03       3.917672   81442.888803   \n",
       "std    136039.418471  2.706141e+04       3.579515   49215.100730   \n",
       "min         1.000000  0.000000e+00       0.000000       0.000000   \n",
       "25%    117909.000000  2.820000e+02       2.000000   39808.000000   \n",
       "50%    235699.000000  1.236000e+03       3.000000   79010.000000   \n",
       "75%    353620.000000  5.118000e+03       5.000000  122559.000000   \n",
       "max    471493.000000  1.042428e+06      76.000000  175738.000000   \n",
       "\n",
       "              Views        Upvotes  \n",
       "count  3.300450e+05  330045.000000  \n",
       "mean   2.964507e+04     337.505358  \n",
       "std    8.095646e+04    3592.441135  \n",
       "min    9.000000e+00       0.000000  \n",
       "25%    2.594000e+03       8.000000  \n",
       "50%    8.954000e+03      28.000000  \n",
       "75%    2.687000e+04     107.000000  \n",
       "max    5.231058e+06  615278.000000  "
      ]
     },
     "execution_count": 148,
     "metadata": {},
     "output_type": "execute_result"
    }
   ],
   "source": [
    "data_train.describe()"
   ]
  },
  {
   "cell_type": "code",
   "execution_count": 149,
   "id": "176ca565",
   "metadata": {},
   "outputs": [
    {
     "data": {
      "text/html": [
       "<div>\n",
       "<style scoped>\n",
       "    .dataframe tbody tr th:only-of-type {\n",
       "        vertical-align: middle;\n",
       "    }\n",
       "\n",
       "    .dataframe tbody tr th {\n",
       "        vertical-align: top;\n",
       "    }\n",
       "\n",
       "    .dataframe thead th {\n",
       "        text-align: right;\n",
       "    }\n",
       "</style>\n",
       "<table border=\"1\" class=\"dataframe\">\n",
       "  <thead>\n",
       "    <tr style=\"text-align: right;\">\n",
       "      <th></th>\n",
       "      <th>ID</th>\n",
       "      <th>Reputation</th>\n",
       "      <th>Answers</th>\n",
       "      <th>Username</th>\n",
       "      <th>Views</th>\n",
       "    </tr>\n",
       "  </thead>\n",
       "  <tbody>\n",
       "    <tr>\n",
       "      <th>count</th>\n",
       "      <td>141448.000000</td>\n",
       "      <td>1.414480e+05</td>\n",
       "      <td>141448.000000</td>\n",
       "      <td>141448.000000</td>\n",
       "      <td>1.414480e+05</td>\n",
       "    </tr>\n",
       "    <tr>\n",
       "      <th>mean</th>\n",
       "      <td>235743.073497</td>\n",
       "      <td>7.920927e+03</td>\n",
       "      <td>3.914873</td>\n",
       "      <td>81348.231117</td>\n",
       "      <td>2.984633e+04</td>\n",
       "    </tr>\n",
       "    <tr>\n",
       "      <th>std</th>\n",
       "      <td>136269.867118</td>\n",
       "      <td>2.791072e+04</td>\n",
       "      <td>3.577460</td>\n",
       "      <td>49046.098215</td>\n",
       "      <td>8.034374e+04</td>\n",
       "    </tr>\n",
       "    <tr>\n",
       "      <th>min</th>\n",
       "      <td>7.000000</td>\n",
       "      <td>0.000000e+00</td>\n",
       "      <td>0.000000</td>\n",
       "      <td>4.000000</td>\n",
       "      <td>9.000000e+00</td>\n",
       "    </tr>\n",
       "    <tr>\n",
       "      <th>25%</th>\n",
       "      <td>117797.000000</td>\n",
       "      <td>2.860000e+02</td>\n",
       "      <td>2.000000</td>\n",
       "      <td>40222.750000</td>\n",
       "      <td>2.608000e+03</td>\n",
       "    </tr>\n",
       "    <tr>\n",
       "      <th>50%</th>\n",
       "      <td>235830.000000</td>\n",
       "      <td>1.245000e+03</td>\n",
       "      <td>3.000000</td>\n",
       "      <td>78795.500000</td>\n",
       "      <td>8.977000e+03</td>\n",
       "    </tr>\n",
       "    <tr>\n",
       "      <th>75%</th>\n",
       "      <td>353616.000000</td>\n",
       "      <td>5.123000e+03</td>\n",
       "      <td>5.000000</td>\n",
       "      <td>122149.000000</td>\n",
       "      <td>2.698925e+04</td>\n",
       "    </tr>\n",
       "    <tr>\n",
       "      <th>max</th>\n",
       "      <td>471488.000000</td>\n",
       "      <td>1.042428e+06</td>\n",
       "      <td>73.000000</td>\n",
       "      <td>175737.000000</td>\n",
       "      <td>5.004669e+06</td>\n",
       "    </tr>\n",
       "  </tbody>\n",
       "</table>\n",
       "</div>"
      ],
      "text/plain": [
       "                  ID    Reputation        Answers       Username         Views\n",
       "count  141448.000000  1.414480e+05  141448.000000  141448.000000  1.414480e+05\n",
       "mean   235743.073497  7.920927e+03       3.914873   81348.231117  2.984633e+04\n",
       "std    136269.867118  2.791072e+04       3.577460   49046.098215  8.034374e+04\n",
       "min         7.000000  0.000000e+00       0.000000       4.000000  9.000000e+00\n",
       "25%    117797.000000  2.860000e+02       2.000000   40222.750000  2.608000e+03\n",
       "50%    235830.000000  1.245000e+03       3.000000   78795.500000  8.977000e+03\n",
       "75%    353616.000000  5.123000e+03       5.000000  122149.000000  2.698925e+04\n",
       "max    471488.000000  1.042428e+06      73.000000  175737.000000  5.004669e+06"
      ]
     },
     "execution_count": 149,
     "metadata": {},
     "output_type": "execute_result"
    }
   ],
   "source": [
    "data_test.describe()"
   ]
  },
  {
   "cell_type": "code",
   "execution_count": 150,
   "id": "8409f767",
   "metadata": {},
   "outputs": [],
   "source": [
    "data=data_train.append(data_test,ignore_index=True)"
   ]
  },
  {
   "cell_type": "code",
   "execution_count": 151,
   "id": "aacd1b04",
   "metadata": {},
   "outputs": [],
   "source": [
    "Y=data_train.Upvotes"
   ]
  },
  {
   "cell_type": "code",
   "execution_count": 152,
   "id": "e00d7002",
   "metadata": {},
   "outputs": [],
   "source": [
    "data.drop('Upvotes',axis=1,inplace=True)"
   ]
  },
  {
   "cell_type": "code",
   "execution_count": 153,
   "id": "741e85fc",
   "metadata": {},
   "outputs": [
    {
     "data": {
      "text/plain": [
       "(471493, 6)"
      ]
     },
     "execution_count": 153,
     "metadata": {},
     "output_type": "execute_result"
    }
   ],
   "source": [
    "data.shape"
   ]
  },
  {
   "cell_type": "code",
   "execution_count": 154,
   "id": "58412628",
   "metadata": {},
   "outputs": [
    {
     "data": {
      "text/plain": [
       "ID            0\n",
       "Tag           0\n",
       "Reputation    0\n",
       "Answers       0\n",
       "Username      0\n",
       "Views         0\n",
       "dtype: int64"
      ]
     },
     "execution_count": 154,
     "metadata": {},
     "output_type": "execute_result"
    }
   ],
   "source": [
    "data.isnull().sum()"
   ]
  },
  {
   "cell_type": "code",
   "execution_count": 155,
   "id": "3286e837",
   "metadata": {},
   "outputs": [
    {
     "data": {
      "text/html": [
       "<div>\n",
       "<style scoped>\n",
       "    .dataframe tbody tr th:only-of-type {\n",
       "        vertical-align: middle;\n",
       "    }\n",
       "\n",
       "    .dataframe tbody tr th {\n",
       "        vertical-align: top;\n",
       "    }\n",
       "\n",
       "    .dataframe thead th {\n",
       "        text-align: right;\n",
       "    }\n",
       "</style>\n",
       "<table border=\"1\" class=\"dataframe\">\n",
       "  <thead>\n",
       "    <tr style=\"text-align: right;\">\n",
       "      <th></th>\n",
       "      <th>ID</th>\n",
       "      <th>Tag</th>\n",
       "      <th>Reputation</th>\n",
       "      <th>Answers</th>\n",
       "      <th>Username</th>\n",
       "      <th>Views</th>\n",
       "    </tr>\n",
       "  </thead>\n",
       "  <tbody>\n",
       "    <tr>\n",
       "      <th>0</th>\n",
       "      <td>52664</td>\n",
       "      <td>a</td>\n",
       "      <td>3942.0</td>\n",
       "      <td>2.0</td>\n",
       "      <td>155623</td>\n",
       "      <td>7855.0</td>\n",
       "    </tr>\n",
       "    <tr>\n",
       "      <th>1</th>\n",
       "      <td>327662</td>\n",
       "      <td>a</td>\n",
       "      <td>26046.0</td>\n",
       "      <td>12.0</td>\n",
       "      <td>21781</td>\n",
       "      <td>55801.0</td>\n",
       "    </tr>\n",
       "    <tr>\n",
       "      <th>2</th>\n",
       "      <td>468453</td>\n",
       "      <td>c</td>\n",
       "      <td>1358.0</td>\n",
       "      <td>4.0</td>\n",
       "      <td>56177</td>\n",
       "      <td>8067.0</td>\n",
       "    </tr>\n",
       "    <tr>\n",
       "      <th>3</th>\n",
       "      <td>96996</td>\n",
       "      <td>a</td>\n",
       "      <td>264.0</td>\n",
       "      <td>3.0</td>\n",
       "      <td>168793</td>\n",
       "      <td>27064.0</td>\n",
       "    </tr>\n",
       "    <tr>\n",
       "      <th>4</th>\n",
       "      <td>131465</td>\n",
       "      <td>c</td>\n",
       "      <td>4271.0</td>\n",
       "      <td>4.0</td>\n",
       "      <td>112223</td>\n",
       "      <td>13986.0</td>\n",
       "    </tr>\n",
       "    <tr>\n",
       "      <th>5</th>\n",
       "      <td>345568</td>\n",
       "      <td>r</td>\n",
       "      <td>440.0</td>\n",
       "      <td>1.0</td>\n",
       "      <td>23866</td>\n",
       "      <td>5577.0</td>\n",
       "    </tr>\n",
       "    <tr>\n",
       "      <th>6</th>\n",
       "      <td>376865</td>\n",
       "      <td>c</td>\n",
       "      <td>147.0</td>\n",
       "      <td>1.0</td>\n",
       "      <td>10759</td>\n",
       "      <td>17184.0</td>\n",
       "    </tr>\n",
       "    <tr>\n",
       "      <th>7</th>\n",
       "      <td>467378</td>\n",
       "      <td>j</td>\n",
       "      <td>2269.0</td>\n",
       "      <td>2.0</td>\n",
       "      <td>54623</td>\n",
       "      <td>312.0</td>\n",
       "    </tr>\n",
       "    <tr>\n",
       "      <th>8</th>\n",
       "      <td>393640</td>\n",
       "      <td>j</td>\n",
       "      <td>111.0</td>\n",
       "      <td>2.0</td>\n",
       "      <td>172926</td>\n",
       "      <td>53738.0</td>\n",
       "    </tr>\n",
       "    <tr>\n",
       "      <th>9</th>\n",
       "      <td>130054</td>\n",
       "      <td>c</td>\n",
       "      <td>2749.0</td>\n",
       "      <td>1.0</td>\n",
       "      <td>10189</td>\n",
       "      <td>227.0</td>\n",
       "    </tr>\n",
       "    <tr>\n",
       "      <th>10</th>\n",
       "      <td>218471</td>\n",
       "      <td>c</td>\n",
       "      <td>1142.0</td>\n",
       "      <td>7.0</td>\n",
       "      <td>71822</td>\n",
       "      <td>141836.0</td>\n",
       "    </tr>\n",
       "    <tr>\n",
       "      <th>11</th>\n",
       "      <td>144119</td>\n",
       "      <td>p</td>\n",
       "      <td>2554.0</td>\n",
       "      <td>1.0</td>\n",
       "      <td>137817</td>\n",
       "      <td>8086.0</td>\n",
       "    </tr>\n",
       "    <tr>\n",
       "      <th>12</th>\n",
       "      <td>155955</td>\n",
       "      <td>s</td>\n",
       "      <td>591.0</td>\n",
       "      <td>4.0</td>\n",
       "      <td>36550</td>\n",
       "      <td>16102.0</td>\n",
       "    </tr>\n",
       "    <tr>\n",
       "      <th>13</th>\n",
       "      <td>442549</td>\n",
       "      <td>h</td>\n",
       "      <td>394.0</td>\n",
       "      <td>1.0</td>\n",
       "      <td>83356</td>\n",
       "      <td>266.0</td>\n",
       "    </tr>\n",
       "    <tr>\n",
       "      <th>14</th>\n",
       "      <td>243606</td>\n",
       "      <td>o</td>\n",
       "      <td>2989.0</td>\n",
       "      <td>2.0</td>\n",
       "      <td>13728</td>\n",
       "      <td>5579.0</td>\n",
       "    </tr>\n",
       "    <tr>\n",
       "      <th>15</th>\n",
       "      <td>375736</td>\n",
       "      <td>c</td>\n",
       "      <td>7952.0</td>\n",
       "      <td>2.0</td>\n",
       "      <td>62155</td>\n",
       "      <td>29191.0</td>\n",
       "    </tr>\n",
       "    <tr>\n",
       "      <th>16</th>\n",
       "      <td>280957</td>\n",
       "      <td>i</td>\n",
       "      <td>731.0</td>\n",
       "      <td>4.0</td>\n",
       "      <td>43559</td>\n",
       "      <td>5622.0</td>\n",
       "    </tr>\n",
       "    <tr>\n",
       "      <th>17</th>\n",
       "      <td>92433</td>\n",
       "      <td>j</td>\n",
       "      <td>1655.0</td>\n",
       "      <td>3.0</td>\n",
       "      <td>101561</td>\n",
       "      <td>3949.0</td>\n",
       "    </tr>\n",
       "    <tr>\n",
       "      <th>18</th>\n",
       "      <td>46038</td>\n",
       "      <td>c</td>\n",
       "      <td>922.0</td>\n",
       "      <td>2.0</td>\n",
       "      <td>132697</td>\n",
       "      <td>1133.0</td>\n",
       "    </tr>\n",
       "    <tr>\n",
       "      <th>19</th>\n",
       "      <td>249294</td>\n",
       "      <td>j</td>\n",
       "      <td>13443.0</td>\n",
       "      <td>4.0</td>\n",
       "      <td>36775</td>\n",
       "      <td>13096.0</td>\n",
       "    </tr>\n",
       "    <tr>\n",
       "      <th>20</th>\n",
       "      <td>196152</td>\n",
       "      <td>j</td>\n",
       "      <td>7608.0</td>\n",
       "      <td>3.0</td>\n",
       "      <td>170045</td>\n",
       "      <td>20035.0</td>\n",
       "    </tr>\n",
       "    <tr>\n",
       "      <th>21</th>\n",
       "      <td>167622</td>\n",
       "      <td>j</td>\n",
       "      <td>166.0</td>\n",
       "      <td>1.0</td>\n",
       "      <td>37105</td>\n",
       "      <td>1881.0</td>\n",
       "    </tr>\n",
       "    <tr>\n",
       "      <th>22</th>\n",
       "      <td>347488</td>\n",
       "      <td>j</td>\n",
       "      <td>774.0</td>\n",
       "      <td>3.0</td>\n",
       "      <td>108729</td>\n",
       "      <td>7169.0</td>\n",
       "    </tr>\n",
       "    <tr>\n",
       "      <th>23</th>\n",
       "      <td>364634</td>\n",
       "      <td>j</td>\n",
       "      <td>101.0</td>\n",
       "      <td>8.0</td>\n",
       "      <td>76000</td>\n",
       "      <td>55594.0</td>\n",
       "    </tr>\n",
       "    <tr>\n",
       "      <th>24</th>\n",
       "      <td>424730</td>\n",
       "      <td>h</td>\n",
       "      <td>2698.0</td>\n",
       "      <td>3.0</td>\n",
       "      <td>103006</td>\n",
       "      <td>16634.0</td>\n",
       "    </tr>\n",
       "    <tr>\n",
       "      <th>25</th>\n",
       "      <td>412681</td>\n",
       "      <td>o</td>\n",
       "      <td>366.0</td>\n",
       "      <td>1.0</td>\n",
       "      <td>94185</td>\n",
       "      <td>6152.0</td>\n",
       "    </tr>\n",
       "    <tr>\n",
       "      <th>26</th>\n",
       "      <td>223188</td>\n",
       "      <td>c</td>\n",
       "      <td>569.0</td>\n",
       "      <td>12.0</td>\n",
       "      <td>116775</td>\n",
       "      <td>38443.0</td>\n",
       "    </tr>\n",
       "    <tr>\n",
       "      <th>27</th>\n",
       "      <td>12366</td>\n",
       "      <td>i</td>\n",
       "      <td>137.0</td>\n",
       "      <td>0.0</td>\n",
       "      <td>40829</td>\n",
       "      <td>2052.0</td>\n",
       "    </tr>\n",
       "    <tr>\n",
       "      <th>28</th>\n",
       "      <td>8721</td>\n",
       "      <td>i</td>\n",
       "      <td>3376.0</td>\n",
       "      <td>5.0</td>\n",
       "      <td>137432</td>\n",
       "      <td>11389.0</td>\n",
       "    </tr>\n",
       "    <tr>\n",
       "      <th>29</th>\n",
       "      <td>131779</td>\n",
       "      <td>s</td>\n",
       "      <td>380.0</td>\n",
       "      <td>3.0</td>\n",
       "      <td>15975</td>\n",
       "      <td>1323.0</td>\n",
       "    </tr>\n",
       "  </tbody>\n",
       "</table>\n",
       "</div>"
      ],
      "text/plain": [
       "        ID Tag  Reputation  Answers  Username     Views\n",
       "0    52664   a      3942.0      2.0    155623    7855.0\n",
       "1   327662   a     26046.0     12.0     21781   55801.0\n",
       "2   468453   c      1358.0      4.0     56177    8067.0\n",
       "3    96996   a       264.0      3.0    168793   27064.0\n",
       "4   131465   c      4271.0      4.0    112223   13986.0\n",
       "5   345568   r       440.0      1.0     23866    5577.0\n",
       "6   376865   c       147.0      1.0     10759   17184.0\n",
       "7   467378   j      2269.0      2.0     54623     312.0\n",
       "8   393640   j       111.0      2.0    172926   53738.0\n",
       "9   130054   c      2749.0      1.0     10189     227.0\n",
       "10  218471   c      1142.0      7.0     71822  141836.0\n",
       "11  144119   p      2554.0      1.0    137817    8086.0\n",
       "12  155955   s       591.0      4.0     36550   16102.0\n",
       "13  442549   h       394.0      1.0     83356     266.0\n",
       "14  243606   o      2989.0      2.0     13728    5579.0\n",
       "15  375736   c      7952.0      2.0     62155   29191.0\n",
       "16  280957   i       731.0      4.0     43559    5622.0\n",
       "17   92433   j      1655.0      3.0    101561    3949.0\n",
       "18   46038   c       922.0      2.0    132697    1133.0\n",
       "19  249294   j     13443.0      4.0     36775   13096.0\n",
       "20  196152   j      7608.0      3.0    170045   20035.0\n",
       "21  167622   j       166.0      1.0     37105    1881.0\n",
       "22  347488   j       774.0      3.0    108729    7169.0\n",
       "23  364634   j       101.0      8.0     76000   55594.0\n",
       "24  424730   h      2698.0      3.0    103006   16634.0\n",
       "25  412681   o       366.0      1.0     94185    6152.0\n",
       "26  223188   c       569.0     12.0    116775   38443.0\n",
       "27   12366   i       137.0      0.0     40829    2052.0\n",
       "28    8721   i      3376.0      5.0    137432   11389.0\n",
       "29  131779   s       380.0      3.0     15975    1323.0"
      ]
     },
     "execution_count": 155,
     "metadata": {},
     "output_type": "execute_result"
    }
   ],
   "source": [
    "data.head(30)"
   ]
  },
  {
   "cell_type": "code",
   "execution_count": 156,
   "id": "9ad9e7c5",
   "metadata": {},
   "outputs": [
    {
     "data": {
      "text/plain": [
       "ID            0.0\n",
       "Tag           0.0\n",
       "Reputation    0.0\n",
       "Answers       0.0\n",
       "Username      0.0\n",
       "Views         0.0\n",
       "dtype: float64"
      ]
     },
     "execution_count": 156,
     "metadata": {},
     "output_type": "execute_result"
    }
   ],
   "source": [
    "(data.isnull().mean())*100"
   ]
  },
  {
   "cell_type": "markdown",
   "id": "4aa76894",
   "metadata": {},
   "source": [
    "<h6>\n",
    "Dummies\n",
    "<h6>"
   ]
  },
  {
   "cell_type": "code",
   "execution_count": 157,
   "id": "6c0ef54f",
   "metadata": {},
   "outputs": [],
   "source": [
    "data_dummy=pd.get_dummies(data)"
   ]
  },
  {
   "cell_type": "code",
   "execution_count": 158,
   "id": "a7bb2a5f",
   "metadata": {},
   "outputs": [
    {
     "data": {
      "text/plain": [
       "(471493, 15)"
      ]
     },
     "execution_count": 158,
     "metadata": {},
     "output_type": "execute_result"
    }
   ],
   "source": [
    "data_dummy.shape"
   ]
  },
  {
   "cell_type": "code",
   "execution_count": 159,
   "id": "2ecb0e6d",
   "metadata": {},
   "outputs": [
    {
     "data": {
      "text/plain": [
       "Index(['ID', 'Reputation', 'Answers', 'Username', 'Views', 'Tag_a', 'Tag_c',\n",
       "       'Tag_h', 'Tag_i', 'Tag_j', 'Tag_o', 'Tag_p', 'Tag_r', 'Tag_s', 'Tag_x'],\n",
       "      dtype='object')"
      ]
     },
     "execution_count": 159,
     "metadata": {},
     "output_type": "execute_result"
    }
   ],
   "source": [
    "data_dummy.columns"
   ]
  },
  {
   "cell_type": "code",
   "execution_count": 160,
   "id": "39d98406",
   "metadata": {},
   "outputs": [],
   "source": [
    "scalar=StandardScaler()"
   ]
  },
  {
   "cell_type": "code",
   "execution_count": 161,
   "id": "6d9e7364",
   "metadata": {},
   "outputs": [],
   "source": [
    "scaled_data=scalar.fit_transform(data_dummy)"
   ]
  },
  {
   "cell_type": "code",
   "execution_count": 162,
   "id": "40a33ce5",
   "metadata": {},
   "outputs": [],
   "source": [
    "scaled_data=pd.DataFrame(scaled_data)"
   ]
  },
  {
   "cell_type": "code",
   "execution_count": 163,
   "id": "295e2b17",
   "metadata": {},
   "outputs": [],
   "source": [
    "scaled_data.columns=data_dummy.columns"
   ]
  },
  {
   "cell_type": "code",
   "execution_count": 164,
   "id": "448e2931",
   "metadata": {},
   "outputs": [],
   "source": [
    "datatrain=scaled_data[:330045]"
   ]
  },
  {
   "cell_type": "code",
   "execution_count": 165,
   "id": "9c603c93",
   "metadata": {},
   "outputs": [],
   "source": [
    "datatest=scaled_data[330045:]"
   ]
  },
  {
   "cell_type": "code",
   "execution_count": 166,
   "id": "41cc0381",
   "metadata": {},
   "outputs": [],
   "source": [
    "train_x,test_x,train_y,test_y=train_test_split(datatrain,Y,test_size=0.2,random_state=100)"
   ]
  },
  {
   "cell_type": "code",
   "execution_count": 167,
   "id": "56719741",
   "metadata": {},
   "outputs": [],
   "source": [
    "model_train=LS().fit(train_x,train_y)"
   ]
  },
  {
   "cell_type": "code",
   "execution_count": 168,
   "id": "0fab7743",
   "metadata": {},
   "outputs": [
    {
     "data": {
      "text/plain": [
       "0.24633409432124564"
      ]
     },
     "execution_count": 168,
     "metadata": {},
     "output_type": "execute_result"
    }
   ],
   "source": [
    "model_train.score(train_x,train_y)"
   ]
  },
  {
   "cell_type": "code",
   "execution_count": 169,
   "id": "27bfc6fb",
   "metadata": {},
   "outputs": [],
   "source": [
    "predicted_y=model_train.predict(test_x)"
   ]
  },
  {
   "cell_type": "code",
   "execution_count": 170,
   "id": "94262c21",
   "metadata": {},
   "outputs": [],
   "source": [
    "predicted_y=pd.DataFrame(predicted_y)"
   ]
  },
  {
   "cell_type": "code",
   "execution_count": 171,
   "id": "b86a967b",
   "metadata": {},
   "outputs": [
    {
     "data": {
      "text/plain": [
       "1.0"
      ]
     },
     "execution_count": 171,
     "metadata": {},
     "output_type": "execute_result"
    }
   ],
   "source": [
    "model_train.score(test_x,predicted_y)"
   ]
  },
  {
   "cell_type": "code",
   "execution_count": 172,
   "id": "180d94d7",
   "metadata": {},
   "outputs": [
    {
     "data": {
      "text/plain": [
       "2345.7740224033146"
      ]
     },
     "execution_count": 172,
     "metadata": {},
     "output_type": "execute_result"
    }
   ],
   "source": [
    "mse(test_y,predicted_y,squared=False)"
   ]
  },
  {
   "cell_type": "code",
   "execution_count": 173,
   "id": "63293e58",
   "metadata": {},
   "outputs": [],
   "source": [
    "data_y=pd.concat([train_y,predicted_y],ignore_index=True)"
   ]
  },
  {
   "cell_type": "code",
   "execution_count": 174,
   "id": "de3da970",
   "metadata": {},
   "outputs": [],
   "source": [
    "data_x=pd.concat([train_x,test_x],ignore_index=True)"
   ]
  },
  {
   "cell_type": "code",
   "execution_count": 175,
   "id": "45fb9b2f",
   "metadata": {},
   "outputs": [
    {
     "data": {
      "text/plain": [
       "(330045, 15)"
      ]
     },
     "execution_count": 175,
     "metadata": {},
     "output_type": "execute_result"
    }
   ],
   "source": [
    "data_x.shape"
   ]
  },
  {
   "cell_type": "code",
   "execution_count": 176,
   "id": "8633ca0b",
   "metadata": {},
   "outputs": [
    {
     "data": {
      "text/plain": [
       "(330045, 1)"
      ]
     },
     "execution_count": 176,
     "metadata": {},
     "output_type": "execute_result"
    }
   ],
   "source": [
    "data_y.shape"
   ]
  },
  {
   "cell_type": "code",
   "execution_count": 177,
   "id": "89a20c7a",
   "metadata": {},
   "outputs": [],
   "source": [
    "model=LS().fit(data_x,data_y)"
   ]
  },
  {
   "cell_type": "code",
   "execution_count": 178,
   "id": "b122106c",
   "metadata": {},
   "outputs": [],
   "source": [
    "predicted_yt=model.predict(datatest)"
   ]
  },
  {
   "cell_type": "code",
   "execution_count": 179,
   "id": "1edb120c",
   "metadata": {},
   "outputs": [
    {
     "data": {
      "text/plain": [
       "1.0"
      ]
     },
     "execution_count": 179,
     "metadata": {},
     "output_type": "execute_result"
    }
   ],
   "source": [
    "model.score(datatest,predicted_yt)"
   ]
  },
  {
   "cell_type": "markdown",
   "id": "148678b7",
   "metadata": {},
   "source": [
    "<h6>\n",
    "Desition tree\n",
    "<h6>"
   ]
  },
  {
   "cell_type": "code",
   "execution_count": 180,
   "id": "28e080c2",
   "metadata": {},
   "outputs": [],
   "source": [
    "model1=DecisionTreeRegressor()\n",
    "model=model1.fit(train_x,train_y)\n"
   ]
  },
  {
   "cell_type": "code",
   "execution_count": 181,
   "id": "850522f2",
   "metadata": {},
   "outputs": [
    {
     "data": {
      "text/plain": [
       "1.0"
      ]
     },
     "execution_count": 181,
     "metadata": {},
     "output_type": "execute_result"
    }
   ],
   "source": [
    "model.score(train_x,train_y)"
   ]
  },
  {
   "cell_type": "code",
   "execution_count": 182,
   "id": "d7bf0910",
   "metadata": {},
   "outputs": [],
   "source": [
    "data_x1=pd.concat([train_x,test_x],ignore_index=True)"
   ]
  },
  {
   "cell_type": "code",
   "execution_count": 183,
   "id": "d62e33f7",
   "metadata": {},
   "outputs": [],
   "source": [
    "predicted_y1=model.predict(test_x)"
   ]
  },
  {
   "cell_type": "code",
   "execution_count": 184,
   "id": "c0d7e88d",
   "metadata": {},
   "outputs": [],
   "source": [
    "predicted_y1=pd.DataFrame(predicted_y1)"
   ]
  },
  {
   "cell_type": "code",
   "execution_count": 185,
   "id": "b9e68dda",
   "metadata": {},
   "outputs": [
    {
     "data": {
      "text/plain": [
       "-0.4355949836209796"
      ]
     },
     "execution_count": 185,
     "metadata": {},
     "output_type": "execute_result"
    }
   ],
   "source": [
    "model.score(test_x,predicted_y)"
   ]
  },
  {
   "cell_type": "code",
   "execution_count": 186,
   "id": "8da5f831",
   "metadata": {},
   "outputs": [],
   "source": [
    "data_y1=pd.concat([train_y,predicted_y1],ignore_index=True)"
   ]
  },
  {
   "cell_type": "code",
   "execution_count": 187,
   "id": "875ef4f9",
   "metadata": {},
   "outputs": [],
   "source": [
    "MODEL=DecisionTreeRegressor().fit(data_x1,data_y1)"
   ]
  },
  {
   "cell_type": "code",
   "execution_count": 188,
   "id": "4f2df26c",
   "metadata": {},
   "outputs": [],
   "source": [
    "predicted_yf=MODEL.predict(datatest)"
   ]
  },
  {
   "cell_type": "code",
   "execution_count": 189,
   "id": "5766c281",
   "metadata": {},
   "outputs": [],
   "source": [
    "predicted_yf=pd.DataFrame(predicted_yf)"
   ]
  },
  {
   "cell_type": "code",
   "execution_count": 190,
   "id": "9e6b4a3f",
   "metadata": {},
   "outputs": [
    {
     "data": {
      "text/plain": [
       "1225.8335153393807"
      ]
     },
     "execution_count": 190,
     "metadata": {},
     "output_type": "execute_result"
    }
   ],
   "source": [
    "mse(test_y,predicted_y1,squared=False)"
   ]
  },
  {
   "cell_type": "code",
   "execution_count": 191,
   "id": "4705319f",
   "metadata": {},
   "outputs": [],
   "source": [
    "IDcol=final.ID"
   ]
  },
  {
   "cell_type": "code",
   "execution_count": 192,
   "id": "6118d044",
   "metadata": {},
   "outputs": [
    {
     "data": {
      "text/plain": [
       "0              7\n",
       "1              9\n",
       "2             12\n",
       "3             13\n",
       "4             16\n",
       "           ...  \n",
       "141443    471473\n",
       "141444    471481\n",
       "141445    471486\n",
       "141446    471487\n",
       "141447    471488\n",
       "Name: ID, Length: 141448, dtype: int64"
      ]
     },
     "execution_count": 192,
     "metadata": {},
     "output_type": "execute_result"
    }
   ],
   "source": [
    "IDcol"
   ]
  },
  {
   "cell_type": "code",
   "execution_count": 193,
   "id": "90140fae",
   "metadata": {},
   "outputs": [],
   "source": [
    "DataDT=pd.concat([IDcol,predicted_yf],axis=1)"
   ]
  },
  {
   "cell_type": "code",
   "execution_count": 194,
   "id": "cbec58ae",
   "metadata": {},
   "outputs": [],
   "source": [
    "DataDT.rename(columns = {'id':'ID',0:'Upvotes'}, inplace = True)"
   ]
  },
  {
   "cell_type": "code",
   "execution_count": 195,
   "id": "9c321d8a",
   "metadata": {},
   "outputs": [],
   "source": [
    "DataDT.to_csv(\"D:\\hackdestree.csv\",index=False)"
   ]
  },
  {
   "cell_type": "code",
   "execution_count": 196,
   "id": "d6c62ab0",
   "metadata": {},
   "outputs": [
    {
     "data": {
      "text/plain": [
       "ID         0\n",
       "Upvotes    0\n",
       "dtype: int64"
      ]
     },
     "execution_count": 196,
     "metadata": {},
     "output_type": "execute_result"
    }
   ],
   "source": [
    "DataDT.isnull().sum()"
   ]
  },
  {
   "cell_type": "code",
   "execution_count": 197,
   "id": "cd4bbfac",
   "metadata": {},
   "outputs": [
    {
     "data": {
      "text/plain": [
       "GradientBoostingRegressor(random_state=0)"
      ]
     },
     "execution_count": 197,
     "metadata": {},
     "output_type": "execute_result"
    }
   ],
   "source": [
    "from sklearn.ensemble import GradientBoostingRegressor\n",
    "model3=GradientBoostingRegressor(n_estimators = 100, random_state = 0)\n",
    "model3.fit(train_x, train_y)"
   ]
  },
  {
   "cell_type": "code",
   "execution_count": 198,
   "id": "cfec7701",
   "metadata": {},
   "outputs": [
    {
     "data": {
      "text/plain": [
       "0.9625414595813179"
      ]
     },
     "execution_count": 198,
     "metadata": {},
     "output_type": "execute_result"
    }
   ],
   "source": [
    "model3.score(train_x,train_y)"
   ]
  },
  {
   "cell_type": "code",
   "execution_count": 199,
   "id": "2b1f7340",
   "metadata": {},
   "outputs": [],
   "source": [
    "predgb=model3.predict(test_x)"
   ]
  },
  {
   "cell_type": "code",
   "execution_count": 200,
   "id": "09ff5fe2",
   "metadata": {},
   "outputs": [
    {
     "data": {
      "text/plain": [
       "1.0"
      ]
     },
     "execution_count": 200,
     "metadata": {},
     "output_type": "execute_result"
    }
   ],
   "source": [
    "model3.score(test_x,predgb)"
   ]
  },
  {
   "cell_type": "code",
   "execution_count": 201,
   "id": "ea3733ae",
   "metadata": {},
   "outputs": [],
   "source": [
    "predictedgb=pd.DataFrame(predgb)\n",
    "model.score(test_x,predictedgb)\n",
    "data_ygb=pd.concat([train_y,predictedgb],ignore_index=True)\n",
    "data_xgb=pd.concat([train_x,test_x],ignore_index=True)"
   ]
  },
  {
   "cell_type": "code",
   "execution_count": 206,
   "id": "681065ac",
   "metadata": {},
   "outputs": [
    {
     "name": "stderr",
     "output_type": "stream",
     "text": [
      "C:\\ProgramData\\Anaconda3\\lib\\site-packages\\sklearn\\utils\\validation.py:63: DataConversionWarning: A column-vector y was passed when a 1d array was expected. Please change the shape of y to (n_samples, ), for example using ravel().\n",
      "  return f(*args, **kwargs)\n"
     ]
    },
    {
     "data": {
      "text/plain": [
       "GradientBoostingRegressor(random_state=0)"
      ]
     },
     "execution_count": 206,
     "metadata": {},
     "output_type": "execute_result"
    }
   ],
   "source": [
    "modelf=GradientBoostingRegressor(n_estimators = 100, random_state = 0)\n",
    "modelf.fit(data_xgb,data_ygb)"
   ]
  },
  {
   "cell_type": "code",
   "execution_count": 207,
   "id": "07430b65",
   "metadata": {},
   "outputs": [
    {
     "data": {
      "text/plain": [
       "0.9645091414284579"
      ]
     },
     "execution_count": 207,
     "metadata": {},
     "output_type": "execute_result"
    }
   ],
   "source": [
    "modelf.score(data_xgb,data_ygb)"
   ]
  },
  {
   "cell_type": "code",
   "execution_count": 210,
   "id": "83c8790d",
   "metadata": {},
   "outputs": [],
   "source": [
    "finalgb=modelf.predict(datatest)"
   ]
  },
  {
   "cell_type": "code",
   "execution_count": 212,
   "id": "facc415f",
   "metadata": {},
   "outputs": [],
   "source": [
    "finalgb=pd.DataFrame(finalgb)"
   ]
  },
  {
   "cell_type": "code",
   "execution_count": 251,
   "id": "98d00221",
   "metadata": {},
   "outputs": [],
   "source": [
    "COL1=data_test.ID"
   ]
  },
  {
   "cell_type": "code",
   "execution_count": 252,
   "id": "f223f567",
   "metadata": {},
   "outputs": [],
   "source": [
    "CO1=pd.DataFrame(COL1)"
   ]
  },
  {
   "cell_type": "code",
   "execution_count": 253,
   "id": "1b937251",
   "metadata": {},
   "outputs": [],
   "source": [
    "COL1.index = np.arange(0, len(COL1) )"
   ]
  },
  {
   "cell_type": "code",
   "execution_count": 254,
   "id": "f6f60fe5",
   "metadata": {},
   "outputs": [],
   "source": [
    "DataDTgb=pd.concat([COL1,finalgb],axis=1)"
   ]
  },
  {
   "cell_type": "code",
   "execution_count": 255,
   "id": "a6b8ee83",
   "metadata": {},
   "outputs": [],
   "source": [
    "DataDTgb.rename(columns = {'id':'ID',0:'Upvotes'}, inplace = True)"
   ]
  },
  {
   "cell_type": "code",
   "execution_count": 256,
   "id": "1a77cc29",
   "metadata": {},
   "outputs": [],
   "source": [
    "DataDTgb.to_csv(\"D:\\hackdestreegb.csv\",index=False)"
   ]
  },
  {
   "cell_type": "code",
   "execution_count": 257,
   "id": "b6efb660",
   "metadata": {},
   "outputs": [
    {
     "data": {
      "text/plain": [
       "ID         0\n",
       "Upvotes    0\n",
       "dtype: int64"
      ]
     },
     "execution_count": 257,
     "metadata": {},
     "output_type": "execute_result"
    }
   ],
   "source": [
    "DataDTgb.isnull().sum()"
   ]
  },
  {
   "cell_type": "code",
   "execution_count": 258,
   "id": "39771eee",
   "metadata": {},
   "outputs": [
    {
     "data": {
      "text/plain": [
       "0         366953\n",
       "1          71864\n",
       "2         141692\n",
       "3         316833\n",
       "4         440445\n",
       "           ...  \n",
       "141443     47187\n",
       "141444    329126\n",
       "141445    282334\n",
       "141446    386629\n",
       "141447    107271\n",
       "Name: ID, Length: 141448, dtype: int64"
      ]
     },
     "execution_count": 258,
     "metadata": {},
     "output_type": "execute_result"
    }
   ],
   "source": [
    "COL1"
   ]
  },
  {
   "cell_type": "code",
   "execution_count": null,
   "id": "4ad049c2",
   "metadata": {},
   "outputs": [],
   "source": []
  }
 ],
 "metadata": {
  "kernelspec": {
   "display_name": "Python 3 (ipykernel)",
   "language": "python",
   "name": "python3"
  },
  "language_info": {
   "codemirror_mode": {
    "name": "ipython",
    "version": 3
   },
   "file_extension": ".py",
   "mimetype": "text/x-python",
   "name": "python",
   "nbconvert_exporter": "python",
   "pygments_lexer": "ipython3",
   "version": "3.9.7"
  }
 },
 "nbformat": 4,
 "nbformat_minor": 5
}

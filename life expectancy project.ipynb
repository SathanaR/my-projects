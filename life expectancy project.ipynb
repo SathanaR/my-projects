{
 "cells": [
  {
   "cell_type": "code",
   "execution_count": 31,
   "id": "de707c75",
   "metadata": {},
   "outputs": [],
   "source": [
    "import pandas as pd\n",
    "from sklearn import preprocessing\n",
    "from sklearn.preprocessing import StandardScaler\n",
    "import seaborn as sns\n",
    "import statsmodels.api as sm\n",
    "from sklearn.model_selection import train_test_split\n",
    "from sklearn.metrics import mean_squared_error as mse\n",
    "from sklearn.linear_model import LinearRegression\n",
    "from sklearn.ensemble import GradientBoostingRegressor\n",
    "from sklearn.ensemble import RandomForestRegressor\n",
    "from sklearn.tree import DecisionTreeRegressor\n",
    "from sklearn.ensemble import AdaBoostRegressor"
   ]
  },
  {
   "cell_type": "code",
   "execution_count": 32,
   "id": "4241bb7c",
   "metadata": {},
   "outputs": [],
   "source": [
    "list=[\"Country\",\"Year\",\"Status\",\"Adult_Mortality\",\"infant_deaths\",\"Alcohol\",\"percentage_expenditure\",\"HepatitisB\",\"Measles\",\"BMI\",\"under_five_deaths\",\"Polio\",\"Total_expenditure\",\"Diphtheria\",\" HIV/AIDS\",\"GDP\",\"Population\",\"thinness1_19years\",\"thinness5_9years\",\"Income_composition_of_resources\",\"Schooling\",\"Life_expectancy\"]"
   ]
  },
  {
   "cell_type": "code",
   "execution_count": 33,
   "id": "a9110a89",
   "metadata": {},
   "outputs": [],
   "source": [
    "data=pd.read_csv(\"C:/Users/admin/Downloads/Life Expectancy Data.csv\",header=0,names=list)"
   ]
  },
  {
   "cell_type": "code",
   "execution_count": 34,
   "id": "88d55c94",
   "metadata": {
    "scrolled": false
   },
   "outputs": [
    {
     "data": {
      "text/plain": [
       "Country                              0\n",
       "Year                                 0\n",
       "Status                               0\n",
       "Adult_Mortality                     10\n",
       "infant_deaths                        0\n",
       "Alcohol                            194\n",
       "percentage_expenditure               0\n",
       "HepatitisB                         553\n",
       "Measles                              0\n",
       "BMI                                 34\n",
       "under_five_deaths                    0\n",
       "Polio                               19\n",
       "Total_expenditure                  226\n",
       "Diphtheria                          19\n",
       " HIV/AIDS                            0\n",
       "GDP                                448\n",
       "Population                         652\n",
       "thinness1_19years                   34\n",
       "thinness5_9years                    34\n",
       "Income_composition_of_resources    167\n",
       "Schooling                          163\n",
       "Life_expectancy                     10\n",
       "dtype: int64"
      ]
     },
     "execution_count": 34,
     "metadata": {},
     "output_type": "execute_result"
    }
   ],
   "source": [
    "data.isnull().sum()"
   ]
  },
  {
   "cell_type": "code",
   "execution_count": 35,
   "id": "a4287474",
   "metadata": {},
   "outputs": [
    {
     "data": {
      "text/html": [
       "<div>\n",
       "<style scoped>\n",
       "    .dataframe tbody tr th:only-of-type {\n",
       "        vertical-align: middle;\n",
       "    }\n",
       "\n",
       "    .dataframe tbody tr th {\n",
       "        vertical-align: top;\n",
       "    }\n",
       "\n",
       "    .dataframe thead th {\n",
       "        text-align: right;\n",
       "    }\n",
       "</style>\n",
       "<table border=\"1\" class=\"dataframe\">\n",
       "  <thead>\n",
       "    <tr style=\"text-align: right;\">\n",
       "      <th></th>\n",
       "      <th>Country</th>\n",
       "      <th>Year</th>\n",
       "      <th>Status</th>\n",
       "      <th>Adult_Mortality</th>\n",
       "      <th>infant_deaths</th>\n",
       "      <th>Alcohol</th>\n",
       "      <th>percentage_expenditure</th>\n",
       "      <th>HepatitisB</th>\n",
       "      <th>Measles</th>\n",
       "      <th>BMI</th>\n",
       "      <th>...</th>\n",
       "      <th>Total_expenditure</th>\n",
       "      <th>Diphtheria</th>\n",
       "      <th>HIV/AIDS</th>\n",
       "      <th>GDP</th>\n",
       "      <th>Population</th>\n",
       "      <th>thinness1_19years</th>\n",
       "      <th>thinness5_9years</th>\n",
       "      <th>Income_composition_of_resources</th>\n",
       "      <th>Schooling</th>\n",
       "      <th>Life_expectancy</th>\n",
       "    </tr>\n",
       "  </thead>\n",
       "  <tbody>\n",
       "    <tr>\n",
       "      <th>0</th>\n",
       "      <td>Afghanistan</td>\n",
       "      <td>2015</td>\n",
       "      <td>Developing</td>\n",
       "      <td>263.0</td>\n",
       "      <td>62</td>\n",
       "      <td>0.01</td>\n",
       "      <td>71.279624</td>\n",
       "      <td>65.0</td>\n",
       "      <td>1154</td>\n",
       "      <td>19.1</td>\n",
       "      <td>...</td>\n",
       "      <td>8.16</td>\n",
       "      <td>65.0</td>\n",
       "      <td>0.1</td>\n",
       "      <td>584.259210</td>\n",
       "      <td>33736494.0</td>\n",
       "      <td>17.2</td>\n",
       "      <td>17.3</td>\n",
       "      <td>0.479</td>\n",
       "      <td>10.1</td>\n",
       "      <td>65.0</td>\n",
       "    </tr>\n",
       "    <tr>\n",
       "      <th>1</th>\n",
       "      <td>Afghanistan</td>\n",
       "      <td>2014</td>\n",
       "      <td>Developing</td>\n",
       "      <td>271.0</td>\n",
       "      <td>64</td>\n",
       "      <td>0.01</td>\n",
       "      <td>73.523582</td>\n",
       "      <td>62.0</td>\n",
       "      <td>492</td>\n",
       "      <td>18.6</td>\n",
       "      <td>...</td>\n",
       "      <td>8.18</td>\n",
       "      <td>62.0</td>\n",
       "      <td>0.1</td>\n",
       "      <td>612.696514</td>\n",
       "      <td>327582.0</td>\n",
       "      <td>17.5</td>\n",
       "      <td>17.5</td>\n",
       "      <td>0.476</td>\n",
       "      <td>10.0</td>\n",
       "      <td>59.9</td>\n",
       "    </tr>\n",
       "    <tr>\n",
       "      <th>2</th>\n",
       "      <td>Afghanistan</td>\n",
       "      <td>2013</td>\n",
       "      <td>Developing</td>\n",
       "      <td>268.0</td>\n",
       "      <td>66</td>\n",
       "      <td>0.01</td>\n",
       "      <td>73.219243</td>\n",
       "      <td>64.0</td>\n",
       "      <td>430</td>\n",
       "      <td>18.1</td>\n",
       "      <td>...</td>\n",
       "      <td>8.13</td>\n",
       "      <td>64.0</td>\n",
       "      <td>0.1</td>\n",
       "      <td>631.744976</td>\n",
       "      <td>31731688.0</td>\n",
       "      <td>17.7</td>\n",
       "      <td>17.7</td>\n",
       "      <td>0.470</td>\n",
       "      <td>9.9</td>\n",
       "      <td>59.9</td>\n",
       "    </tr>\n",
       "    <tr>\n",
       "      <th>3</th>\n",
       "      <td>Afghanistan</td>\n",
       "      <td>2012</td>\n",
       "      <td>Developing</td>\n",
       "      <td>272.0</td>\n",
       "      <td>69</td>\n",
       "      <td>0.01</td>\n",
       "      <td>78.184215</td>\n",
       "      <td>67.0</td>\n",
       "      <td>2787</td>\n",
       "      <td>17.6</td>\n",
       "      <td>...</td>\n",
       "      <td>8.52</td>\n",
       "      <td>67.0</td>\n",
       "      <td>0.1</td>\n",
       "      <td>669.959000</td>\n",
       "      <td>3696958.0</td>\n",
       "      <td>17.9</td>\n",
       "      <td>18.0</td>\n",
       "      <td>0.463</td>\n",
       "      <td>9.8</td>\n",
       "      <td>59.5</td>\n",
       "    </tr>\n",
       "    <tr>\n",
       "      <th>4</th>\n",
       "      <td>Afghanistan</td>\n",
       "      <td>2011</td>\n",
       "      <td>Developing</td>\n",
       "      <td>275.0</td>\n",
       "      <td>71</td>\n",
       "      <td>0.01</td>\n",
       "      <td>7.097109</td>\n",
       "      <td>68.0</td>\n",
       "      <td>3013</td>\n",
       "      <td>17.2</td>\n",
       "      <td>...</td>\n",
       "      <td>7.87</td>\n",
       "      <td>68.0</td>\n",
       "      <td>0.1</td>\n",
       "      <td>63.537231</td>\n",
       "      <td>2978599.0</td>\n",
       "      <td>18.2</td>\n",
       "      <td>18.2</td>\n",
       "      <td>0.454</td>\n",
       "      <td>9.5</td>\n",
       "      <td>59.2</td>\n",
       "    </tr>\n",
       "  </tbody>\n",
       "</table>\n",
       "<p>5 rows × 22 columns</p>\n",
       "</div>"
      ],
      "text/plain": [
       "       Country  Year      Status  Adult_Mortality  infant_deaths  Alcohol  \\\n",
       "0  Afghanistan  2015  Developing            263.0             62     0.01   \n",
       "1  Afghanistan  2014  Developing            271.0             64     0.01   \n",
       "2  Afghanistan  2013  Developing            268.0             66     0.01   \n",
       "3  Afghanistan  2012  Developing            272.0             69     0.01   \n",
       "4  Afghanistan  2011  Developing            275.0             71     0.01   \n",
       "\n",
       "   percentage_expenditure  HepatitisB  Measles   BMI  ...  Total_expenditure  \\\n",
       "0               71.279624        65.0     1154  19.1  ...               8.16   \n",
       "1               73.523582        62.0      492  18.6  ...               8.18   \n",
       "2               73.219243        64.0      430  18.1  ...               8.13   \n",
       "3               78.184215        67.0     2787  17.6  ...               8.52   \n",
       "4                7.097109        68.0     3013  17.2  ...               7.87   \n",
       "\n",
       "   Diphtheria   HIV/AIDS         GDP  Population  thinness1_19years  \\\n",
       "0        65.0        0.1  584.259210  33736494.0               17.2   \n",
       "1        62.0        0.1  612.696514    327582.0               17.5   \n",
       "2        64.0        0.1  631.744976  31731688.0               17.7   \n",
       "3        67.0        0.1  669.959000   3696958.0               17.9   \n",
       "4        68.0        0.1   63.537231   2978599.0               18.2   \n",
       "\n",
       "   thinness5_9years  Income_composition_of_resources  Schooling  \\\n",
       "0              17.3                            0.479       10.1   \n",
       "1              17.5                            0.476       10.0   \n",
       "2              17.7                            0.470        9.9   \n",
       "3              18.0                            0.463        9.8   \n",
       "4              18.2                            0.454        9.5   \n",
       "\n",
       "   Life_expectancy  \n",
       "0             65.0  \n",
       "1             59.9  \n",
       "2             59.9  \n",
       "3             59.5  \n",
       "4             59.2  \n",
       "\n",
       "[5 rows x 22 columns]"
      ]
     },
     "execution_count": 35,
     "metadata": {},
     "output_type": "execute_result"
    }
   ],
   "source": [
    "data.head()"
   ]
  },
  {
   "cell_type": "code",
   "execution_count": 36,
   "id": "6e46cda3",
   "metadata": {},
   "outputs": [
    {
     "data": {
      "text/plain": [
       "(2938, 22)"
      ]
     },
     "execution_count": 36,
     "metadata": {},
     "output_type": "execute_result"
    }
   ],
   "source": [
    "data.shape"
   ]
  },
  {
   "cell_type": "code",
   "execution_count": 37,
   "id": "6781bdc3",
   "metadata": {},
   "outputs": [],
   "source": [
    "data.Adult_Mortality .interpolate(method='pad',inplace=True)"
   ]
  },
  {
   "cell_type": "code",
   "execution_count": 38,
   "id": "830d583f",
   "metadata": {},
   "outputs": [],
   "source": [
    "data.Alcohol.interpolate(method='pad',inplace=True)                            "
   ]
  },
  {
   "cell_type": "code",
   "execution_count": 39,
   "id": "a7636a23",
   "metadata": {},
   "outputs": [],
   "source": [
    "data.HepatitisB.interpolate(method='pad',inplace=True)                            "
   ]
  },
  {
   "cell_type": "code",
   "execution_count": 40,
   "id": "456bfe5b",
   "metadata": {},
   "outputs": [],
   "source": [
    "data.BMI.interpolate(method='pad',inplace=True)                            "
   ]
  },
  {
   "cell_type": "code",
   "execution_count": 41,
   "id": "280aa208",
   "metadata": {},
   "outputs": [],
   "source": [
    "data.Polio.interpolate(method='pad',inplace=True)                            "
   ]
  },
  {
   "cell_type": "code",
   "execution_count": 42,
   "id": "1436ffce",
   "metadata": {},
   "outputs": [],
   "source": [
    "data.Total_expenditure.interpolate(method='pad',inplace=True)                            "
   ]
  },
  {
   "cell_type": "code",
   "execution_count": 43,
   "id": "c8b311e4",
   "metadata": {},
   "outputs": [],
   "source": [
    "data.Diphtheria.interpolate(method='pad',inplace=True)                            "
   ]
  },
  {
   "cell_type": "code",
   "execution_count": 44,
   "id": "7ae9a734",
   "metadata": {},
   "outputs": [],
   "source": [
    "data.GDP.interpolate(method='pad',inplace=True)                            "
   ]
  },
  {
   "cell_type": "code",
   "execution_count": 45,
   "id": "7f795124",
   "metadata": {},
   "outputs": [],
   "source": [
    "data.Population.interpolate(method='pad',inplace=True)                            "
   ]
  },
  {
   "cell_type": "code",
   "execution_count": 46,
   "id": "cb7bc933",
   "metadata": {},
   "outputs": [],
   "source": [
    "data.thinness1_19years.interpolate(method='pad',inplace=True)                            "
   ]
  },
  {
   "cell_type": "code",
   "execution_count": 47,
   "id": "9e335c02",
   "metadata": {},
   "outputs": [],
   "source": [
    "data.thinness5_9years.interpolate(method='pad',inplace=True)                                               "
   ]
  },
  {
   "cell_type": "code",
   "execution_count": 48,
   "id": "0eddcadb",
   "metadata": {},
   "outputs": [],
   "source": [
    "data.Income_composition_of_resources .interpolate(method='pad',inplace=True)                            "
   ]
  },
  {
   "cell_type": "code",
   "execution_count": 49,
   "id": "52876776",
   "metadata": {},
   "outputs": [],
   "source": [
    "data.Schooling.interpolate(method='pad',inplace=True)                            "
   ]
  },
  {
   "cell_type": "code",
   "execution_count": 50,
   "id": "83fbf845",
   "metadata": {},
   "outputs": [],
   "source": [
    "data.Life_expectancy.interpolate(method='pad',inplace=True)                            "
   ]
  },
  {
   "cell_type": "code",
   "execution_count": 51,
   "id": "350c98b2",
   "metadata": {},
   "outputs": [
    {
     "data": {
      "text/plain": [
       "Country                            0\n",
       "Year                               0\n",
       "Status                             0\n",
       "Adult_Mortality                    0\n",
       "infant_deaths                      0\n",
       "Alcohol                            0\n",
       "percentage_expenditure             0\n",
       "HepatitisB                         0\n",
       "Measles                            0\n",
       "BMI                                0\n",
       "under_five_deaths                  0\n",
       "Polio                              0\n",
       "Total_expenditure                  0\n",
       "Diphtheria                         0\n",
       " HIV/AIDS                          0\n",
       "GDP                                0\n",
       "Population                         0\n",
       "thinness1_19years                  0\n",
       "thinness5_9years                   0\n",
       "Income_composition_of_resources    0\n",
       "Schooling                          0\n",
       "Life_expectancy                    0\n",
       "dtype: int64"
      ]
     },
     "execution_count": 51,
     "metadata": {},
     "output_type": "execute_result"
    }
   ],
   "source": [
    "data.isnull().sum()"
   ]
  },
  {
   "cell_type": "markdown",
   "id": "53d851fd",
   "metadata": {},
   "source": [
    "VISUALIZATION"
   ]
  },
  {
   "cell_type": "code",
   "execution_count": 52,
   "id": "29aac9ca",
   "metadata": {},
   "outputs": [],
   "source": [
    "data.to_csv(\"D:\\lifeexpprocessed.csv\",index=False)"
   ]
  },
  {
   "cell_type": "code",
   "execution_count": 53,
   "id": "82fbf3cd",
   "metadata": {},
   "outputs": [],
   "source": [
    "le = preprocessing.LabelEncoder()"
   ]
  },
  {
   "cell_type": "code",
   "execution_count": 54,
   "id": "4ca431c1",
   "metadata": {},
   "outputs": [],
   "source": [
    "data.Country=le.fit_transform(data.Country)"
   ]
  },
  {
   "cell_type": "code",
   "execution_count": 55,
   "id": "09b75e88",
   "metadata": {},
   "outputs": [],
   "source": [
    "data.Status=le.fit_transform(data.Status)"
   ]
  },
  {
   "cell_type": "code",
   "execution_count": 56,
   "id": "43ce90ea",
   "metadata": {},
   "outputs": [],
   "source": [
    "scaler = StandardScaler()"
   ]
  },
  {
   "cell_type": "code",
   "execution_count": 57,
   "id": "2df50192",
   "metadata": {},
   "outputs": [],
   "source": [
    "scaleddata=scaler.fit_transform(data)"
   ]
  },
  {
   "cell_type": "code",
   "execution_count": 58,
   "id": "b1b7d0a5",
   "metadata": {},
   "outputs": [],
   "source": [
    "scaleddata=pd.DataFrame(scaleddata)"
   ]
  },
  {
   "cell_type": "code",
   "execution_count": 59,
   "id": "9e4eee21",
   "metadata": {},
   "outputs": [],
   "source": [
    "scaleddata.columns=data.columns"
   ]
  },
  {
   "cell_type": "code",
   "execution_count": 60,
   "id": "eb7f23c7",
   "metadata": {},
   "outputs": [
    {
     "data": {
      "text/html": [
       "<div>\n",
       "<style scoped>\n",
       "    .dataframe tbody tr th:only-of-type {\n",
       "        vertical-align: middle;\n",
       "    }\n",
       "\n",
       "    .dataframe tbody tr th {\n",
       "        vertical-align: top;\n",
       "    }\n",
       "\n",
       "    .dataframe thead th {\n",
       "        text-align: right;\n",
       "    }\n",
       "</style>\n",
       "<table border=\"1\" class=\"dataframe\">\n",
       "  <thead>\n",
       "    <tr style=\"text-align: right;\">\n",
       "      <th></th>\n",
       "      <th>Country</th>\n",
       "      <th>Year</th>\n",
       "      <th>Status</th>\n",
       "      <th>Adult_Mortality</th>\n",
       "      <th>infant_deaths</th>\n",
       "      <th>Alcohol</th>\n",
       "      <th>percentage_expenditure</th>\n",
       "      <th>HepatitisB</th>\n",
       "      <th>Measles</th>\n",
       "      <th>BMI</th>\n",
       "      <th>...</th>\n",
       "      <th>Total_expenditure</th>\n",
       "      <th>Diphtheria</th>\n",
       "      <th>HIV/AIDS</th>\n",
       "      <th>GDP</th>\n",
       "      <th>Population</th>\n",
       "      <th>thinness1_19years</th>\n",
       "      <th>thinness5_9years</th>\n",
       "      <th>Income_composition_of_resources</th>\n",
       "      <th>Schooling</th>\n",
       "      <th>Life_expectancy</th>\n",
       "    </tr>\n",
       "  </thead>\n",
       "  <tbody>\n",
       "    <tr>\n",
       "      <th>0</th>\n",
       "      <td>-1.691042</td>\n",
       "      <td>1.621762</td>\n",
       "      <td>0.459399</td>\n",
       "      <td>0.789176</td>\n",
       "      <td>0.268824</td>\n",
       "      <td>-1.136785</td>\n",
       "      <td>-0.335570</td>\n",
       "      <td>-0.370362</td>\n",
       "      <td>-0.110384</td>\n",
       "      <td>-0.937958</td>\n",
       "      <td>...</td>\n",
       "      <td>0.907653</td>\n",
       "      <td>-0.714057</td>\n",
       "      <td>-0.323445</td>\n",
       "      <td>-0.502060</td>\n",
       "      <td>0.365388</td>\n",
       "      <td>2.696551</td>\n",
       "      <td>2.633648</td>\n",
       "      <td>-0.722755</td>\n",
       "      <td>-0.549662</td>\n",
       "      <td>-0.440024</td>\n",
       "    </tr>\n",
       "    <tr>\n",
       "      <th>1</th>\n",
       "      <td>-1.691042</td>\n",
       "      <td>1.404986</td>\n",
       "      <td>0.459399</td>\n",
       "      <td>0.853479</td>\n",
       "      <td>0.285786</td>\n",
       "      <td>-1.136785</td>\n",
       "      <td>-0.334441</td>\n",
       "      <td>-0.474359</td>\n",
       "      <td>-0.168124</td>\n",
       "      <td>-0.962745</td>\n",
       "      <td>...</td>\n",
       "      <td>0.915704</td>\n",
       "      <td>-0.839512</td>\n",
       "      <td>-0.323445</td>\n",
       "      <td>-0.499988</td>\n",
       "      <td>-0.228123</td>\n",
       "      <td>2.762622</td>\n",
       "      <td>2.676480</td>\n",
       "      <td>-0.736981</td>\n",
       "      <td>-0.579606</td>\n",
       "      <td>-0.974894</td>\n",
       "    </tr>\n",
       "    <tr>\n",
       "      <th>2</th>\n",
       "      <td>-1.691042</td>\n",
       "      <td>1.188210</td>\n",
       "      <td>0.459399</td>\n",
       "      <td>0.829365</td>\n",
       "      <td>0.302749</td>\n",
       "      <td>-1.136785</td>\n",
       "      <td>-0.334594</td>\n",
       "      <td>-0.405028</td>\n",
       "      <td>-0.173531</td>\n",
       "      <td>-0.987532</td>\n",
       "      <td>...</td>\n",
       "      <td>0.895577</td>\n",
       "      <td>-0.755876</td>\n",
       "      <td>-0.323445</td>\n",
       "      <td>-0.498600</td>\n",
       "      <td>0.329773</td>\n",
       "      <td>2.806668</td>\n",
       "      <td>2.719313</td>\n",
       "      <td>-0.765432</td>\n",
       "      <td>-0.609549</td>\n",
       "      <td>-0.974894</td>\n",
       "    </tr>\n",
       "    <tr>\n",
       "      <th>3</th>\n",
       "      <td>-1.691042</td>\n",
       "      <td>0.971434</td>\n",
       "      <td>0.459399</td>\n",
       "      <td>0.861516</td>\n",
       "      <td>0.328193</td>\n",
       "      <td>-1.136785</td>\n",
       "      <td>-0.332096</td>\n",
       "      <td>-0.301031</td>\n",
       "      <td>0.032045</td>\n",
       "      <td>-1.012320</td>\n",
       "      <td>...</td>\n",
       "      <td>1.052569</td>\n",
       "      <td>-0.630421</td>\n",
       "      <td>-0.323445</td>\n",
       "      <td>-0.495816</td>\n",
       "      <td>-0.168266</td>\n",
       "      <td>2.850715</td>\n",
       "      <td>2.783562</td>\n",
       "      <td>-0.798626</td>\n",
       "      <td>-0.639492</td>\n",
       "      <td>-1.016844</td>\n",
       "    </tr>\n",
       "    <tr>\n",
       "      <th>4</th>\n",
       "      <td>-1.691042</td>\n",
       "      <td>0.754658</td>\n",
       "      <td>0.459399</td>\n",
       "      <td>0.885630</td>\n",
       "      <td>0.345155</td>\n",
       "      <td>-1.136785</td>\n",
       "      <td>-0.367862</td>\n",
       "      <td>-0.266365</td>\n",
       "      <td>0.051757</td>\n",
       "      <td>-1.032149</td>\n",
       "      <td>...</td>\n",
       "      <td>0.790915</td>\n",
       "      <td>-0.588602</td>\n",
       "      <td>-0.323445</td>\n",
       "      <td>-0.539996</td>\n",
       "      <td>-0.181028</td>\n",
       "      <td>2.916785</td>\n",
       "      <td>2.826394</td>\n",
       "      <td>-0.841303</td>\n",
       "      <td>-0.729323</td>\n",
       "      <td>-1.048307</td>\n",
       "    </tr>\n",
       "  </tbody>\n",
       "</table>\n",
       "<p>5 rows × 22 columns</p>\n",
       "</div>"
      ],
      "text/plain": [
       "    Country      Year    Status  Adult_Mortality  infant_deaths   Alcohol  \\\n",
       "0 -1.691042  1.621762  0.459399         0.789176       0.268824 -1.136785   \n",
       "1 -1.691042  1.404986  0.459399         0.853479       0.285786 -1.136785   \n",
       "2 -1.691042  1.188210  0.459399         0.829365       0.302749 -1.136785   \n",
       "3 -1.691042  0.971434  0.459399         0.861516       0.328193 -1.136785   \n",
       "4 -1.691042  0.754658  0.459399         0.885630       0.345155 -1.136785   \n",
       "\n",
       "   percentage_expenditure  HepatitisB   Measles       BMI  ...  \\\n",
       "0               -0.335570   -0.370362 -0.110384 -0.937958  ...   \n",
       "1               -0.334441   -0.474359 -0.168124 -0.962745  ...   \n",
       "2               -0.334594   -0.405028 -0.173531 -0.987532  ...   \n",
       "3               -0.332096   -0.301031  0.032045 -1.012320  ...   \n",
       "4               -0.367862   -0.266365  0.051757 -1.032149  ...   \n",
       "\n",
       "   Total_expenditure  Diphtheria   HIV/AIDS       GDP  Population  \\\n",
       "0           0.907653   -0.714057  -0.323445 -0.502060    0.365388   \n",
       "1           0.915704   -0.839512  -0.323445 -0.499988   -0.228123   \n",
       "2           0.895577   -0.755876  -0.323445 -0.498600    0.329773   \n",
       "3           1.052569   -0.630421  -0.323445 -0.495816   -0.168266   \n",
       "4           0.790915   -0.588602  -0.323445 -0.539996   -0.181028   \n",
       "\n",
       "   thinness1_19years  thinness5_9years  Income_composition_of_resources  \\\n",
       "0           2.696551          2.633648                        -0.722755   \n",
       "1           2.762622          2.676480                        -0.736981   \n",
       "2           2.806668          2.719313                        -0.765432   \n",
       "3           2.850715          2.783562                        -0.798626   \n",
       "4           2.916785          2.826394                        -0.841303   \n",
       "\n",
       "   Schooling  Life_expectancy  \n",
       "0  -0.549662        -0.440024  \n",
       "1  -0.579606        -0.974894  \n",
       "2  -0.609549        -0.974894  \n",
       "3  -0.639492        -1.016844  \n",
       "4  -0.729323        -1.048307  \n",
       "\n",
       "[5 rows x 22 columns]"
      ]
     },
     "execution_count": 60,
     "metadata": {},
     "output_type": "execute_result"
    }
   ],
   "source": [
    "scaleddata.head()"
   ]
  },
  {
   "cell_type": "code",
   "execution_count": 61,
   "id": "9b958ed3",
   "metadata": {},
   "outputs": [],
   "source": [
    "Y=scaleddata.Life_expectancy"
   ]
  },
  {
   "cell_type": "code",
   "execution_count": 62,
   "id": "92874e62",
   "metadata": {},
   "outputs": [],
   "source": [
    "X=scaleddata.drop('Life_expectancy',axis=1)"
   ]
  },
  {
   "cell_type": "code",
   "execution_count": 63,
   "id": "e22ce8de",
   "metadata": {},
   "outputs": [
    {
     "data": {
      "text/html": [
       "<div>\n",
       "<style scoped>\n",
       "    .dataframe tbody tr th:only-of-type {\n",
       "        vertical-align: middle;\n",
       "    }\n",
       "\n",
       "    .dataframe tbody tr th {\n",
       "        vertical-align: top;\n",
       "    }\n",
       "\n",
       "    .dataframe thead th {\n",
       "        text-align: right;\n",
       "    }\n",
       "</style>\n",
       "<table border=\"1\" class=\"dataframe\">\n",
       "  <thead>\n",
       "    <tr style=\"text-align: right;\">\n",
       "      <th></th>\n",
       "      <th>Country</th>\n",
       "      <th>Year</th>\n",
       "      <th>Status</th>\n",
       "      <th>Adult_Mortality</th>\n",
       "      <th>infant_deaths</th>\n",
       "      <th>Alcohol</th>\n",
       "      <th>percentage_expenditure</th>\n",
       "      <th>HepatitisB</th>\n",
       "      <th>Measles</th>\n",
       "      <th>BMI</th>\n",
       "      <th>...</th>\n",
       "      <th>Polio</th>\n",
       "      <th>Total_expenditure</th>\n",
       "      <th>Diphtheria</th>\n",
       "      <th>HIV/AIDS</th>\n",
       "      <th>GDP</th>\n",
       "      <th>Population</th>\n",
       "      <th>thinness1_19years</th>\n",
       "      <th>thinness5_9years</th>\n",
       "      <th>Income_composition_of_resources</th>\n",
       "      <th>Schooling</th>\n",
       "    </tr>\n",
       "  </thead>\n",
       "  <tbody>\n",
       "    <tr>\n",
       "      <th>0</th>\n",
       "      <td>-1.691042</td>\n",
       "      <td>1.621762</td>\n",
       "      <td>0.459399</td>\n",
       "      <td>0.789176</td>\n",
       "      <td>0.268824</td>\n",
       "      <td>-1.136785</td>\n",
       "      <td>-0.335570</td>\n",
       "      <td>-0.370362</td>\n",
       "      <td>-0.110384</td>\n",
       "      <td>-0.937958</td>\n",
       "      <td>...</td>\n",
       "      <td>-3.228909</td>\n",
       "      <td>0.907653</td>\n",
       "      <td>-0.714057</td>\n",
       "      <td>-0.323445</td>\n",
       "      <td>-0.502060</td>\n",
       "      <td>0.365388</td>\n",
       "      <td>2.696551</td>\n",
       "      <td>2.633648</td>\n",
       "      <td>-0.722755</td>\n",
       "      <td>-0.549662</td>\n",
       "    </tr>\n",
       "    <tr>\n",
       "      <th>1</th>\n",
       "      <td>-1.691042</td>\n",
       "      <td>1.404986</td>\n",
       "      <td>0.459399</td>\n",
       "      <td>0.853479</td>\n",
       "      <td>0.285786</td>\n",
       "      <td>-1.136785</td>\n",
       "      <td>-0.334441</td>\n",
       "      <td>-0.474359</td>\n",
       "      <td>-0.168124</td>\n",
       "      <td>-0.962745</td>\n",
       "      <td>...</td>\n",
       "      <td>-1.028564</td>\n",
       "      <td>0.915704</td>\n",
       "      <td>-0.839512</td>\n",
       "      <td>-0.323445</td>\n",
       "      <td>-0.499988</td>\n",
       "      <td>-0.228123</td>\n",
       "      <td>2.762622</td>\n",
       "      <td>2.676480</td>\n",
       "      <td>-0.736981</td>\n",
       "      <td>-0.579606</td>\n",
       "    </tr>\n",
       "    <tr>\n",
       "      <th>2</th>\n",
       "      <td>-1.691042</td>\n",
       "      <td>1.188210</td>\n",
       "      <td>0.459399</td>\n",
       "      <td>0.829365</td>\n",
       "      <td>0.302749</td>\n",
       "      <td>-1.136785</td>\n",
       "      <td>-0.334594</td>\n",
       "      <td>-0.405028</td>\n",
       "      <td>-0.173531</td>\n",
       "      <td>-0.987532</td>\n",
       "      <td>...</td>\n",
       "      <td>-0.859306</td>\n",
       "      <td>0.895577</td>\n",
       "      <td>-0.755876</td>\n",
       "      <td>-0.323445</td>\n",
       "      <td>-0.498600</td>\n",
       "      <td>0.329773</td>\n",
       "      <td>2.806668</td>\n",
       "      <td>2.719313</td>\n",
       "      <td>-0.765432</td>\n",
       "      <td>-0.609549</td>\n",
       "    </tr>\n",
       "    <tr>\n",
       "      <th>3</th>\n",
       "      <td>-1.691042</td>\n",
       "      <td>0.971434</td>\n",
       "      <td>0.459399</td>\n",
       "      <td>0.861516</td>\n",
       "      <td>0.328193</td>\n",
       "      <td>-1.136785</td>\n",
       "      <td>-0.332096</td>\n",
       "      <td>-0.301031</td>\n",
       "      <td>0.032045</td>\n",
       "      <td>-1.012320</td>\n",
       "      <td>...</td>\n",
       "      <td>-0.647735</td>\n",
       "      <td>1.052569</td>\n",
       "      <td>-0.630421</td>\n",
       "      <td>-0.323445</td>\n",
       "      <td>-0.495816</td>\n",
       "      <td>-0.168266</td>\n",
       "      <td>2.850715</td>\n",
       "      <td>2.783562</td>\n",
       "      <td>-0.798626</td>\n",
       "      <td>-0.639492</td>\n",
       "    </tr>\n",
       "    <tr>\n",
       "      <th>4</th>\n",
       "      <td>-1.691042</td>\n",
       "      <td>0.754658</td>\n",
       "      <td>0.459399</td>\n",
       "      <td>0.885630</td>\n",
       "      <td>0.345155</td>\n",
       "      <td>-1.136785</td>\n",
       "      <td>-0.367862</td>\n",
       "      <td>-0.266365</td>\n",
       "      <td>0.051757</td>\n",
       "      <td>-1.032149</td>\n",
       "      <td>...</td>\n",
       "      <td>-0.605420</td>\n",
       "      <td>0.790915</td>\n",
       "      <td>-0.588602</td>\n",
       "      <td>-0.323445</td>\n",
       "      <td>-0.539996</td>\n",
       "      <td>-0.181028</td>\n",
       "      <td>2.916785</td>\n",
       "      <td>2.826394</td>\n",
       "      <td>-0.841303</td>\n",
       "      <td>-0.729323</td>\n",
       "    </tr>\n",
       "  </tbody>\n",
       "</table>\n",
       "<p>5 rows × 21 columns</p>\n",
       "</div>"
      ],
      "text/plain": [
       "    Country      Year    Status  Adult_Mortality  infant_deaths   Alcohol  \\\n",
       "0 -1.691042  1.621762  0.459399         0.789176       0.268824 -1.136785   \n",
       "1 -1.691042  1.404986  0.459399         0.853479       0.285786 -1.136785   \n",
       "2 -1.691042  1.188210  0.459399         0.829365       0.302749 -1.136785   \n",
       "3 -1.691042  0.971434  0.459399         0.861516       0.328193 -1.136785   \n",
       "4 -1.691042  0.754658  0.459399         0.885630       0.345155 -1.136785   \n",
       "\n",
       "   percentage_expenditure  HepatitisB   Measles       BMI  ...     Polio  \\\n",
       "0               -0.335570   -0.370362 -0.110384 -0.937958  ... -3.228909   \n",
       "1               -0.334441   -0.474359 -0.168124 -0.962745  ... -1.028564   \n",
       "2               -0.334594   -0.405028 -0.173531 -0.987532  ... -0.859306   \n",
       "3               -0.332096   -0.301031  0.032045 -1.012320  ... -0.647735   \n",
       "4               -0.367862   -0.266365  0.051757 -1.032149  ... -0.605420   \n",
       "\n",
       "   Total_expenditure  Diphtheria   HIV/AIDS       GDP  Population  \\\n",
       "0           0.907653   -0.714057  -0.323445 -0.502060    0.365388   \n",
       "1           0.915704   -0.839512  -0.323445 -0.499988   -0.228123   \n",
       "2           0.895577   -0.755876  -0.323445 -0.498600    0.329773   \n",
       "3           1.052569   -0.630421  -0.323445 -0.495816   -0.168266   \n",
       "4           0.790915   -0.588602  -0.323445 -0.539996   -0.181028   \n",
       "\n",
       "   thinness1_19years  thinness5_9years  Income_composition_of_resources  \\\n",
       "0           2.696551          2.633648                        -0.722755   \n",
       "1           2.762622          2.676480                        -0.736981   \n",
       "2           2.806668          2.719313                        -0.765432   \n",
       "3           2.850715          2.783562                        -0.798626   \n",
       "4           2.916785          2.826394                        -0.841303   \n",
       "\n",
       "   Schooling  \n",
       "0  -0.549662  \n",
       "1  -0.579606  \n",
       "2  -0.609549  \n",
       "3  -0.639492  \n",
       "4  -0.729323  \n",
       "\n",
       "[5 rows x 21 columns]"
      ]
     },
     "execution_count": 63,
     "metadata": {},
     "output_type": "execute_result"
    }
   ],
   "source": [
    "X.head()"
   ]
  },
  {
   "cell_type": "code",
   "execution_count": 64,
   "id": "d7ac7018",
   "metadata": {},
   "outputs": [],
   "source": [
    "x_train,x_test,y_train,y_test= train_test_split(X,Y,train_size = 0.8, test_size = 0.2,random_state =50)"
   ]
  },
  {
   "cell_type": "markdown",
   "id": "2f7ab948",
   "metadata": {},
   "source": [
    "LinearRegression"
   ]
  },
  {
   "cell_type": "code",
   "execution_count": 65,
   "id": "87546196",
   "metadata": {},
   "outputs": [],
   "source": [
    "model=LinearRegression().fit(x_train,y_train)"
   ]
  },
  {
   "cell_type": "code",
   "execution_count": 66,
   "id": "1d45cd46",
   "metadata": {},
   "outputs": [
    {
     "data": {
      "text/plain": [
       "0.8212669362204322"
      ]
     },
     "execution_count": 66,
     "metadata": {},
     "output_type": "execute_result"
    }
   ],
   "source": [
    "model.score(x_train,y_train)"
   ]
  },
  {
   "cell_type": "code",
   "execution_count": 67,
   "id": "1ff0f230",
   "metadata": {},
   "outputs": [],
   "source": [
    "modeltest=model.fit(x_test,y_test)"
   ]
  },
  {
   "cell_type": "code",
   "execution_count": 68,
   "id": "6e357d46",
   "metadata": {},
   "outputs": [
    {
     "data": {
      "text/plain": [
       "0.827594456558727"
      ]
     },
     "execution_count": 68,
     "metadata": {},
     "output_type": "execute_result"
    }
   ],
   "source": [
    "modeltest.score(x_test,y_test)"
   ]
  },
  {
   "cell_type": "code",
   "execution_count": 69,
   "id": "40ec4a8c",
   "metadata": {},
   "outputs": [],
   "source": [
    "modellr=model.fit(X,Y)"
   ]
  },
  {
   "cell_type": "code",
   "execution_count": 70,
   "id": "778e043d",
   "metadata": {},
   "outputs": [
    {
     "data": {
      "text/plain": [
       "0.820925399159611"
      ]
     },
     "execution_count": 70,
     "metadata": {},
     "output_type": "execute_result"
    }
   ],
   "source": [
    "modellr.score(X,Y)"
   ]
  },
  {
   "cell_type": "markdown",
   "id": "2057e8b4",
   "metadata": {},
   "source": [
    "DecisionTreeRegressor"
   ]
  },
  {
   "cell_type": "code",
   "execution_count": 71,
   "id": "97cc80f0",
   "metadata": {},
   "outputs": [
    {
     "data": {
      "text/plain": [
       "DecisionTreeRegressor(max_depth=50)"
      ]
     },
     "execution_count": 71,
     "metadata": {},
     "output_type": "execute_result"
    }
   ],
   "source": [
    "dec = DecisionTreeRegressor(max_depth=50)\n",
    "dec.fit(x_train, y_train)"
   ]
  },
  {
   "cell_type": "code",
   "execution_count": 72,
   "id": "24c94439",
   "metadata": {},
   "outputs": [
    {
     "data": {
      "text/plain": [
       "1.0"
      ]
     },
     "execution_count": 72,
     "metadata": {},
     "output_type": "execute_result"
    }
   ],
   "source": [
    "dec.score(x_train,y_train)"
   ]
  },
  {
   "cell_type": "code",
   "execution_count": 73,
   "id": "9891aebd",
   "metadata": {},
   "outputs": [],
   "source": [
    "ytest=dec.predict(x_test)"
   ]
  },
  {
   "cell_type": "code",
   "execution_count": 74,
   "id": "975d33ac",
   "metadata": {},
   "outputs": [],
   "source": [
    "ytest=pd.DataFrame(ytest)"
   ]
  },
  {
   "cell_type": "code",
   "execution_count": 75,
   "id": "d771cf8c",
   "metadata": {},
   "outputs": [
    {
     "data": {
      "text/plain": [
       "0.09511928150754875"
      ]
     },
     "execution_count": 75,
     "metadata": {},
     "output_type": "execute_result"
    }
   ],
   "source": [
    "mse(y_test,ytest)"
   ]
  },
  {
   "cell_type": "code",
   "execution_count": 76,
   "id": "0fe475a4",
   "metadata": {},
   "outputs": [],
   "source": [
    "dectest=dec.fit(x_test, y_test)"
   ]
  },
  {
   "cell_type": "code",
   "execution_count": 77,
   "id": "86dab489",
   "metadata": {},
   "outputs": [
    {
     "data": {
      "text/plain": [
       "1.0"
      ]
     },
     "execution_count": 77,
     "metadata": {},
     "output_type": "execute_result"
    }
   ],
   "source": [
    "dectest.score(x_test,y_test)"
   ]
  },
  {
   "cell_type": "code",
   "execution_count": 78,
   "id": "9d928fcf",
   "metadata": {},
   "outputs": [],
   "source": [
    "decfinal=dec.fit(X,Y)"
   ]
  },
  {
   "cell_type": "code",
   "execution_count": 79,
   "id": "eea20b76",
   "metadata": {},
   "outputs": [
    {
     "data": {
      "text/plain": [
       "1.0"
      ]
     },
     "execution_count": 79,
     "metadata": {},
     "output_type": "execute_result"
    }
   ],
   "source": [
    "decfinal.score(X,Y)"
   ]
  },
  {
   "cell_type": "markdown",
   "id": "aa8cc7fc",
   "metadata": {},
   "source": [
    "AdaBoostRegressor"
   ]
  },
  {
   "cell_type": "code",
   "execution_count": 80,
   "id": "af70b9fc",
   "metadata": {},
   "outputs": [],
   "source": [
    "ada=AdaBoostRegressor(random_state=50, n_estimators=100)"
   ]
  },
  {
   "cell_type": "code",
   "execution_count": 81,
   "id": "71f37001",
   "metadata": {},
   "outputs": [
    {
     "data": {
      "text/plain": [
       "AdaBoostRegressor(n_estimators=100, random_state=50)"
      ]
     },
     "execution_count": 81,
     "metadata": {},
     "output_type": "execute_result"
    }
   ],
   "source": [
    "ada.fit(x_train,y_train)"
   ]
  },
  {
   "cell_type": "code",
   "execution_count": 82,
   "id": "db868ce1",
   "metadata": {},
   "outputs": [],
   "source": [
    "yprd=ada.predict(x_test)"
   ]
  },
  {
   "cell_type": "code",
   "execution_count": 83,
   "id": "70f62ddc",
   "metadata": {},
   "outputs": [],
   "source": [
    "yprd=pd.DataFrame(yprd)"
   ]
  },
  {
   "cell_type": "code",
   "execution_count": 84,
   "id": "999ad122",
   "metadata": {},
   "outputs": [
    {
     "data": {
      "text/plain": [
       "0.12996553647061973"
      ]
     },
     "execution_count": 84,
     "metadata": {},
     "output_type": "execute_result"
    }
   ],
   "source": [
    "mse(y_test,yprd)"
   ]
  },
  {
   "cell_type": "code",
   "execution_count": 85,
   "id": "5df75fe8",
   "metadata": {},
   "outputs": [
    {
     "data": {
      "text/plain": [
       "AdaBoostRegressor(n_estimators=100, random_state=50)"
      ]
     },
     "execution_count": 85,
     "metadata": {},
     "output_type": "execute_result"
    }
   ],
   "source": [
    "ada.fit(x_test,y_test)"
   ]
  },
  {
   "cell_type": "code",
   "execution_count": 86,
   "id": "fc89fbc3",
   "metadata": {},
   "outputs": [
    {
     "data": {
      "text/plain": [
       "0.9246672393006521"
      ]
     },
     "execution_count": 86,
     "metadata": {},
     "output_type": "execute_result"
    }
   ],
   "source": [
    "ada.score(x_test,y_test)"
   ]
  },
  {
   "cell_type": "code",
   "execution_count": 87,
   "id": "d1154476",
   "metadata": {},
   "outputs": [
    {
     "data": {
      "text/plain": [
       "AdaBoostRegressor(n_estimators=100, random_state=50)"
      ]
     },
     "execution_count": 87,
     "metadata": {},
     "output_type": "execute_result"
    }
   ],
   "source": [
    "ada.fit(X,Y)"
   ]
  },
  {
   "cell_type": "code",
   "execution_count": 88,
   "id": "07d29796",
   "metadata": {},
   "outputs": [
    {
     "data": {
      "text/plain": [
       "0.8988385371544554"
      ]
     },
     "execution_count": 88,
     "metadata": {},
     "output_type": "execute_result"
    }
   ],
   "source": [
    "ada.score(X,Y)"
   ]
  },
  {
   "cell_type": "markdown",
   "id": "d6ef6238",
   "metadata": {},
   "source": [
    "GradientBoostingRegressor"
   ]
  },
  {
   "cell_type": "code",
   "execution_count": 89,
   "id": "fb20cb5c",
   "metadata": {},
   "outputs": [],
   "source": [
    "gbt = GradientBoostingRegressor(learning_rate=0.1, n_estimators=100)\n",
    "gbt = gbt.fit(x_train, y_train)"
   ]
  },
  {
   "cell_type": "code",
   "execution_count": 90,
   "id": "9976ddb7",
   "metadata": {},
   "outputs": [
    {
     "data": {
      "text/plain": [
       "0.9621400714834826"
      ]
     },
     "execution_count": 90,
     "metadata": {},
     "output_type": "execute_result"
    }
   ],
   "source": [
    "gbt.score(x_train,y_train)"
   ]
  },
  {
   "cell_type": "code",
   "execution_count": 91,
   "id": "bdd6bbcf",
   "metadata": {},
   "outputs": [],
   "source": [
    "ypred=gbt.predict(x_test)"
   ]
  },
  {
   "cell_type": "code",
   "execution_count": 92,
   "id": "6dbf2f97",
   "metadata": {},
   "outputs": [],
   "source": [
    "ypred=pd.DataFrame(ypred)"
   ]
  },
  {
   "cell_type": "code",
   "execution_count": 93,
   "id": "91173bea",
   "metadata": {},
   "outputs": [
    {
     "data": {
      "text/plain": [
       "0.06744902994006573"
      ]
     },
     "execution_count": 93,
     "metadata": {},
     "output_type": "execute_result"
    }
   ],
   "source": [
    "mse(y_test,ypred)"
   ]
  },
  {
   "cell_type": "code",
   "execution_count": 94,
   "id": "361bc986",
   "metadata": {},
   "outputs": [],
   "source": [
    "gbttest = gbt.fit(x_test, y_test)"
   ]
  },
  {
   "cell_type": "code",
   "execution_count": 95,
   "id": "807d8efe",
   "metadata": {},
   "outputs": [
    {
     "data": {
      "text/plain": [
       "0.9795978057953185"
      ]
     },
     "execution_count": 95,
     "metadata": {},
     "output_type": "execute_result"
    }
   ],
   "source": [
    "gbt.score(x_test,y_test)"
   ]
  },
  {
   "cell_type": "code",
   "execution_count": 96,
   "id": "4c99446b",
   "metadata": {},
   "outputs": [],
   "source": [
    "gbtfinal = gbt.fit(X,Y)"
   ]
  },
  {
   "cell_type": "code",
   "execution_count": 97,
   "id": "1c9df89b",
   "metadata": {},
   "outputs": [
    {
     "data": {
      "text/plain": [
       "0.9609840975231142"
      ]
     },
     "execution_count": 97,
     "metadata": {},
     "output_type": "execute_result"
    }
   ],
   "source": [
    "gbtfinal.score(X,Y)"
   ]
  },
  {
   "cell_type": "markdown",
   "id": "e846b5a2",
   "metadata": {},
   "source": [
    "GradientBoostingRegressor gives the best model result"
   ]
  },
  {
   "cell_type": "code",
   "execution_count": 98,
   "id": "49eb829e",
   "metadata": {},
   "outputs": [],
   "source": [
    "data_y1=pd.concat([y_train,ypred],ignore_index=True)\n",
    "data_x1=pd.concat([x_train,x_test],ignore_index=True)"
   ]
  },
  {
   "cell_type": "code",
   "execution_count": 99,
   "id": "dca8211b",
   "metadata": {},
   "outputs": [
    {
     "name": "stderr",
     "output_type": "stream",
     "text": [
      "C:\\ProgramData\\Anaconda3\\lib\\site-packages\\sklearn\\utils\\validation.py:63: DataConversionWarning: A column-vector y was passed when a 1d array was expected. Please change the shape of y to (n_samples, ), for example using ravel().\n",
      "  return f(*args, **kwargs)\n"
     ]
    }
   ],
   "source": [
    "MODEL=gbt.fit(data_x1,data_y1)"
   ]
  },
  {
   "cell_type": "code",
   "execution_count": 100,
   "id": "3476a837",
   "metadata": {},
   "outputs": [],
   "source": [
    "DataDT=pd.concat([data_x1,data_y1],axis=1)"
   ]
  },
  {
   "cell_type": "code",
   "execution_count": 105,
   "id": "983ad4b1",
   "metadata": {},
   "outputs": [
    {
     "data": {
      "text/html": [
       "<div>\n",
       "<style scoped>\n",
       "    .dataframe tbody tr th:only-of-type {\n",
       "        vertical-align: middle;\n",
       "    }\n",
       "\n",
       "    .dataframe tbody tr th {\n",
       "        vertical-align: top;\n",
       "    }\n",
       "\n",
       "    .dataframe thead th {\n",
       "        text-align: right;\n",
       "    }\n",
       "</style>\n",
       "<table border=\"1\" class=\"dataframe\">\n",
       "  <thead>\n",
       "    <tr style=\"text-align: right;\">\n",
       "      <th></th>\n",
       "      <th>Country</th>\n",
       "      <th>Year</th>\n",
       "      <th>Status</th>\n",
       "      <th>Adult_Mortality</th>\n",
       "      <th>infant_deaths</th>\n",
       "      <th>Alcohol</th>\n",
       "      <th>percentage_expenditure</th>\n",
       "      <th>HepatitisB</th>\n",
       "      <th>Measles</th>\n",
       "      <th>BMI</th>\n",
       "      <th>...</th>\n",
       "      <th>Total_expenditure</th>\n",
       "      <th>Diphtheria</th>\n",
       "      <th>HIV/AIDS</th>\n",
       "      <th>GDP</th>\n",
       "      <th>Population</th>\n",
       "      <th>thinness1_19years</th>\n",
       "      <th>thinness5_9years</th>\n",
       "      <th>Income_composition_of_resources</th>\n",
       "      <th>Schooling</th>\n",
       "      <th>Life_expectancy</th>\n",
       "    </tr>\n",
       "  </thead>\n",
       "  <tbody>\n",
       "    <tr>\n",
       "      <th>0</th>\n",
       "      <td>96.0</td>\n",
       "      <td>2015.0</td>\n",
       "      <td>1.0</td>\n",
       "      <td>138.0</td>\n",
       "      <td>1.000000e+00</td>\n",
       "      <td>4.46</td>\n",
       "      <td>0.000000</td>\n",
       "      <td>97.0</td>\n",
       "      <td>82.0</td>\n",
       "      <td>64.8</td>\n",
       "      <td>...</td>\n",
       "      <td>5.91</td>\n",
       "      <td>97.0</td>\n",
       "      <td>0.1</td>\n",
       "      <td>183.414999</td>\n",
       "      <td>2884522.0</td>\n",
       "      <td>5.8</td>\n",
       "      <td>5.5</td>\n",
       "      <td>0.719</td>\n",
       "      <td>13.4</td>\n",
       "      <td>72.7</td>\n",
       "    </tr>\n",
       "    <tr>\n",
       "      <th>1</th>\n",
       "      <td>55.0</td>\n",
       "      <td>2009.0</td>\n",
       "      <td>1.0</td>\n",
       "      <td>311.0</td>\n",
       "      <td>6.000000e+00</td>\n",
       "      <td>0.63</td>\n",
       "      <td>1.575160</td>\n",
       "      <td>92.0</td>\n",
       "      <td>82.0</td>\n",
       "      <td>15.5</td>\n",
       "      <td>...</td>\n",
       "      <td>3.30</td>\n",
       "      <td>92.0</td>\n",
       "      <td>1.0</td>\n",
       "      <td>43.754450</td>\n",
       "      <td>431334.0</td>\n",
       "      <td>9.0</td>\n",
       "      <td>8.9</td>\n",
       "      <td>0.402</td>\n",
       "      <td>5.2</td>\n",
       "      <td>61.4</td>\n",
       "    </tr>\n",
       "    <tr>\n",
       "      <th>2</th>\n",
       "      <td>120.0</td>\n",
       "      <td>2012.0</td>\n",
       "      <td>0.0</td>\n",
       "      <td>7.0</td>\n",
       "      <td>3.552714e-15</td>\n",
       "      <td>9.20</td>\n",
       "      <td>924.565368</td>\n",
       "      <td>93.0</td>\n",
       "      <td>68.0</td>\n",
       "      <td>65.9</td>\n",
       "      <td>...</td>\n",
       "      <td>11.53</td>\n",
       "      <td>93.0</td>\n",
       "      <td>0.1</td>\n",
       "      <td>3997.256240</td>\n",
       "      <td>15925513.0</td>\n",
       "      <td>0.3</td>\n",
       "      <td>0.3</td>\n",
       "      <td>0.904</td>\n",
       "      <td>19.5</td>\n",
       "      <td>81.1</td>\n",
       "    </tr>\n",
       "    <tr>\n",
       "      <th>3</th>\n",
       "      <td>185.0</td>\n",
       "      <td>2003.0</td>\n",
       "      <td>1.0</td>\n",
       "      <td>121.0</td>\n",
       "      <td>1.000000e+00</td>\n",
       "      <td>5.11</td>\n",
       "      <td>160.840014</td>\n",
       "      <td>91.0</td>\n",
       "      <td>0.0</td>\n",
       "      <td>57.0</td>\n",
       "      <td>...</td>\n",
       "      <td>6.52</td>\n",
       "      <td>91.0</td>\n",
       "      <td>0.1</td>\n",
       "      <td>3622.522840</td>\n",
       "      <td>3325637.0</td>\n",
       "      <td>1.7</td>\n",
       "      <td>1.6</td>\n",
       "      <td>0.747</td>\n",
       "      <td>15.0</td>\n",
       "      <td>75.4</td>\n",
       "    </tr>\n",
       "    <tr>\n",
       "      <th>4</th>\n",
       "      <td>41.0</td>\n",
       "      <td>2009.0</td>\n",
       "      <td>1.0</td>\n",
       "      <td>11.0</td>\n",
       "      <td>1.000000e+00</td>\n",
       "      <td>4.01</td>\n",
       "      <td>818.877102</td>\n",
       "      <td>96.0</td>\n",
       "      <td>0.0</td>\n",
       "      <td>56.9</td>\n",
       "      <td>...</td>\n",
       "      <td>11.78</td>\n",
       "      <td>96.0</td>\n",
       "      <td>0.1</td>\n",
       "      <td>5484.776300</td>\n",
       "      <td>4426.0</td>\n",
       "      <td>3.4</td>\n",
       "      <td>3.2</td>\n",
       "      <td>0.782</td>\n",
       "      <td>17.7</td>\n",
       "      <td>78.1</td>\n",
       "    </tr>\n",
       "  </tbody>\n",
       "</table>\n",
       "<p>5 rows × 22 columns</p>\n",
       "</div>"
      ],
      "text/plain": [
       "   Country    Year  Status  Adult_Mortality  infant_deaths  Alcohol  \\\n",
       "0     96.0  2015.0     1.0            138.0   1.000000e+00     4.46   \n",
       "1     55.0  2009.0     1.0            311.0   6.000000e+00     0.63   \n",
       "2    120.0  2012.0     0.0              7.0   3.552714e-15     9.20   \n",
       "3    185.0  2003.0     1.0            121.0   1.000000e+00     5.11   \n",
       "4     41.0  2009.0     1.0             11.0   1.000000e+00     4.01   \n",
       "\n",
       "   percentage_expenditure  HepatitisB  Measles   BMI  ...  Total_expenditure  \\\n",
       "0                0.000000        97.0     82.0  64.8  ...               5.91   \n",
       "1                1.575160        92.0     82.0  15.5  ...               3.30   \n",
       "2              924.565368        93.0     68.0  65.9  ...              11.53   \n",
       "3              160.840014        91.0      0.0  57.0  ...               6.52   \n",
       "4              818.877102        96.0      0.0  56.9  ...              11.78   \n",
       "\n",
       "   Diphtheria   HIV/AIDS          GDP  Population  thinness1_19years  \\\n",
       "0        97.0        0.1   183.414999   2884522.0                5.8   \n",
       "1        92.0        1.0    43.754450    431334.0                9.0   \n",
       "2        93.0        0.1  3997.256240  15925513.0                0.3   \n",
       "3        91.0        0.1  3622.522840   3325637.0                1.7   \n",
       "4        96.0        0.1  5484.776300      4426.0                3.4   \n",
       "\n",
       "   thinness5_9years  Income_composition_of_resources  Schooling  \\\n",
       "0               5.5                            0.719       13.4   \n",
       "1               8.9                            0.402        5.2   \n",
       "2               0.3                            0.904       19.5   \n",
       "3               1.6                            0.747       15.0   \n",
       "4               3.2                            0.782       17.7   \n",
       "\n",
       "   Life_expectancy  \n",
       "0             72.7  \n",
       "1             61.4  \n",
       "2             81.1  \n",
       "3             75.4  \n",
       "4             78.1  \n",
       "\n",
       "[5 rows x 22 columns]"
      ]
     },
     "execution_count": 105,
     "metadata": {},
     "output_type": "execute_result"
    }
   ],
   "source": [
    "DataDT.head()"
   ]
  },
  {
   "cell_type": "code",
   "execution_count": 102,
   "id": "8f13ed66",
   "metadata": {},
   "outputs": [],
   "source": [
    "DataDT=scaler.inverse_transform(DataDT)"
   ]
  },
  {
   "cell_type": "code",
   "execution_count": 103,
   "id": "d9839bd4",
   "metadata": {},
   "outputs": [],
   "source": [
    "DataDT=pd.DataFrame(DataDT)"
   ]
  },
  {
   "cell_type": "code",
   "execution_count": 104,
   "id": "1bdb25ec",
   "metadata": {},
   "outputs": [],
   "source": [
    "DataDT.columns=data.columns"
   ]
  },
  {
   "cell_type": "code",
   "execution_count": null,
   "id": "32aeed08",
   "metadata": {},
   "outputs": [],
   "source": []
  }
 ],
 "metadata": {
  "kernelspec": {
   "display_name": "Python 3 (ipykernel)",
   "language": "python",
   "name": "python3"
  },
  "language_info": {
   "codemirror_mode": {
    "name": "ipython",
    "version": 3
   },
   "file_extension": ".py",
   "mimetype": "text/x-python",
   "name": "python",
   "nbconvert_exporter": "python",
   "pygments_lexer": "ipython3",
   "version": "3.9.7"
  }
 },
 "nbformat": 4,
 "nbformat_minor": 5
}
